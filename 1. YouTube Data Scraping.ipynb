{
 "cells": [
  {
   "cell_type": "code",
   "execution_count": 1,
   "id": "e3190773-5dc2-495e-9c62-ba0c94491ac0",
   "metadata": {},
   "outputs": [
    {
     "name": "stdout",
     "output_type": "stream",
     "text": [
      "Requirement already satisfied: isodate in c:\\users\\sid\\anaconda3\\lib\\site-packages (0.6.1)\n",
      "Requirement already satisfied: six in c:\\users\\sid\\anaconda3\\lib\\site-packages (from isodate) (1.16.0)\n"
     ]
    }
   ],
   "source": [
    "# pip install google-api-python-client\n",
    "# !pip install isodate"
   ]
  },
  {
   "cell_type": "code",
   "execution_count": 2,
   "id": "af7252bb-c8fc-43eb-803b-491571ff7bc3",
   "metadata": {},
   "outputs": [
    {
     "name": "stdout",
     "output_type": "stream",
     "text": [
      "Requirement already satisfied: google-api-python-client in c:\\users\\sid\\anaconda3\\lib\\site-packages (2.40.0)\n",
      "Requirement already satisfied: httplib2<1dev,>=0.15.0 in c:\\users\\sid\\anaconda3\\lib\\site-packages (from google-api-python-client) (0.20.4)\n",
      "Requirement already satisfied: google-api-core!=2.0.*,!=2.1.*,!=2.2.*,!=2.3.0,<3.0.0dev,>=1.31.5 in c:\\users\\sid\\anaconda3\\lib\\site-packages (from google-api-python-client) (2.7.1)\n",
      "Requirement already satisfied: uritemplate<5,>=3.0.1 in c:\\users\\sid\\anaconda3\\lib\\site-packages (from google-api-python-client) (4.1.1)\n",
      "Requirement already satisfied: google-auth-httplib2>=0.1.0 in c:\\users\\sid\\anaconda3\\lib\\site-packages (from google-api-python-client) (0.1.0)\n",
      "Requirement already satisfied: google-auth<3.0.0dev,>=1.16.0 in c:\\users\\sid\\anaconda3\\lib\\site-packages (from google-api-python-client) (2.6.0)\n",
      "Requirement already satisfied: googleapis-common-protos<2.0dev,>=1.52.0 in c:\\users\\sid\\anaconda3\\lib\\site-packages (from google-api-core!=2.0.*,!=2.1.*,!=2.2.*,!=2.3.0,<3.0.0dev,>=1.31.5->google-api-python-client) (1.55.0)\n",
      "Requirement already satisfied: protobuf>=3.12.0 in c:\\users\\sid\\anaconda3\\lib\\site-packages (from google-api-core!=2.0.*,!=2.1.*,!=2.2.*,!=2.3.0,<3.0.0dev,>=1.31.5->google-api-python-client) (3.19.4)\n",
      "Requirement already satisfied: requests<3.0.0dev,>=2.18.0 in c:\\users\\sid\\anaconda3\\lib\\site-packages (from google-api-core!=2.0.*,!=2.1.*,!=2.2.*,!=2.3.0,<3.0.0dev,>=1.31.5->google-api-python-client) (2.26.0)\n",
      "Requirement already satisfied: six>=1.9.0 in c:\\users\\sid\\anaconda3\\lib\\site-packages (from google-auth<3.0.0dev,>=1.16.0->google-api-python-client) (1.16.0)\n",
      "Requirement already satisfied: pyasn1-modules>=0.2.1 in c:\\users\\sid\\anaconda3\\lib\\site-packages (from google-auth<3.0.0dev,>=1.16.0->google-api-python-client) (0.2.8)\n",
      "Requirement already satisfied: rsa<5,>=3.1.4 in c:\\users\\sid\\anaconda3\\lib\\site-packages (from google-auth<3.0.0dev,>=1.16.0->google-api-python-client) (4.8)\n",
      "Requirement already satisfied: cachetools<6.0,>=2.0.0 in c:\\users\\sid\\anaconda3\\lib\\site-packages (from google-auth<3.0.0dev,>=1.16.0->google-api-python-client) (5.0.0)\n",
      "Requirement already satisfied: pyparsing!=3.0.0,!=3.0.1,!=3.0.2,!=3.0.3,<4,>=2.4.2 in c:\\users\\sid\\anaconda3\\lib\\site-packages (from httplib2<1dev,>=0.15.0->google-api-python-client) (3.0.4)\n",
      "Requirement already satisfied: pyasn1<0.5.0,>=0.4.6 in c:\\users\\sid\\anaconda3\\lib\\site-packages (from pyasn1-modules>=0.2.1->google-auth<3.0.0dev,>=1.16.0->google-api-python-client) (0.4.8)\n",
      "Requirement already satisfied: charset-normalizer~=2.0.0 in c:\\users\\sid\\anaconda3\\lib\\site-packages (from requests<3.0.0dev,>=2.18.0->google-api-core!=2.0.*,!=2.1.*,!=2.2.*,!=2.3.0,<3.0.0dev,>=1.31.5->google-api-python-client) (2.0.4)\n",
      "Requirement already satisfied: urllib3<1.27,>=1.21.1 in c:\\users\\sid\\anaconda3\\lib\\site-packages (from requests<3.0.0dev,>=2.18.0->google-api-core!=2.0.*,!=2.1.*,!=2.2.*,!=2.3.0,<3.0.0dev,>=1.31.5->google-api-python-client) (1.26.7)\n",
      "Requirement already satisfied: certifi>=2017.4.17 in c:\\users\\sid\\anaconda3\\lib\\site-packages (from requests<3.0.0dev,>=2.18.0->google-api-core!=2.0.*,!=2.1.*,!=2.2.*,!=2.3.0,<3.0.0dev,>=1.31.5->google-api-python-client) (2021.10.8)\n",
      "Requirement already satisfied: idna<4,>=2.5 in c:\\users\\sid\\anaconda3\\lib\\site-packages (from requests<3.0.0dev,>=2.18.0->google-api-core!=2.0.*,!=2.1.*,!=2.2.*,!=2.3.0,<3.0.0dev,>=1.31.5->google-api-python-client) (3.2)\n"
     ]
    }
   ],
   "source": [
    "# !pip install google-api-python-client"
   ]
  },
  {
   "cell_type": "code",
   "execution_count": 23,
   "id": "56ae2ab8-961a-4f30-a12b-2bcfeb2dc15b",
   "metadata": {},
   "outputs": [],
   "source": [
    "from googleapiclient.discovery import build\n",
    "import pandas as pd\n",
    "from tqdm.notebook import tqdm\n",
    "import isodate\n",
    "from datetime import datetime\n",
    "from pandas_summary import DataFrameSummary\n",
    "import json\n",
    "import os\n",
    "import glob"
   ]
  },
  {
   "cell_type": "markdown",
   "id": "112684a6-6896-4637-8a07-e3645c57381a",
   "metadata": {},
   "source": [
    "# Function the Fetches the data of the unique channels"
   ]
  },
  {
   "cell_type": "code",
   "execution_count": 24,
   "id": "ba4ab9e9-3055-4245-a234-669d5cdce5c7",
   "metadata": {},
   "outputs": [],
   "source": [
    "import dateutil.relativedelta\n",
    "from datetime import date\n",
    "sats = []\n",
    "numMonths = 6\n",
    "\n",
    "def get_sub(channelId):\n",
    "    return youtube.channels().list(id = channelId,  part = 'statistics').execute()['items'][0]['statistics']['subscriberCount']\n",
    "\n",
    "def get_youtube_data(channel_name = None, channelId = None,  verbose = False):\n",
    "    if channelId == None:\n",
    "        assert channel_name != None, \"You must have a channel Name or a Channel ID\"\n",
    "        snippets = youtube.search().list(part = \"snippet\", type = \"channel\", q = channel_name).execute()\n",
    "        channelId =  snippets['items'][0]['snippet']['channelId']\n",
    "        \n",
    "    content = youtube.channels().list(id = channelId, part = \"contentDetails\").execute()\n",
    "    uploadId = content['items'][0]['contentDetails']['relatedPlaylists']['uploads']\n",
    "    allVid = []\n",
    "    nextPageToken = None\n",
    "    page_no = 0\n",
    "    \n",
    "    print(\"Fetching Videos in Channel\")\n",
    "    while True:\n",
    "        res = youtube.playlistItems().list(\n",
    "            part = \"snippet\",maxResults= 50, playlistId = uploadId, pageToken = nextPageToken).execute()\n",
    "        allVid += res['items']\n",
    "        page_no += 1\n",
    "        nextPageToken = res.get('nextPageToken')\n",
    "        if verbose:\n",
    "            print(f\"Checking Video page {page_no}\")\n",
    "            \n",
    "        latest_date = pd.to_datetime(allVid[-1]['snippet']['publishedAt']).tz_localize(None).date()\n",
    "        three_months_b4 = date.today() - dateutil.relativedelta.relativedelta(months=numMonths)\n",
    "        if ( latest_date < three_months_b4): # If content is more than 3 months old then stop scraping\n",
    "            print(f\"{numMonths} Months Exceeded\")\n",
    "            break\n",
    "        if nextPageToken is None: # If there is no more content left to scrape then stop scraping\n",
    "            break\n",
    "        \n",
    "    name, title,publishedDate, thumbnails, subcriber_count_list, view_count,desc,duration, like = [],[],[],[],[],[],[],[],[]\n",
    "    subscriber_count = get_sub(channelId)\n",
    "\n",
    "    print(\"Fetching Video MetaData\")\n",
    "    for i in tqdm(range(0, len(allVid))):\n",
    "        title.append((allVid[i])['snippet']['title'])\n",
    "        publishedDate.append((allVid[i])['snippet']['publishedAt'])\n",
    "        thumbnails.append((allVid[i])['snippet']['thumbnails']['high']['url'])\n",
    "        subcriber_count_list.append(subscriber_count) \n",
    "        video_id = (allVid[i])['snippet']['resourceId']['videoId']\n",
    "        stats = youtube.videos().list(part = \"statistics\",maxResults= 1, id = video_id\n",
    "                                      ).execute()['items'][0]['statistics']\n",
    "        contentDeets = youtube.videos().list(part = \"contentDetails\",maxResults= 1, id = video_id\n",
    "                                      ).execute()['items'][0]['contentDetails']\n",
    "        view_count.append( stats['viewCount'])\n",
    "        desc.append((allVid[i])['snippet']['description'])\n",
    "        duration.append(str(isodate.parse_duration(contentDeets['duration'])))\n",
    "        like.append(stats['likeCount'])\n",
    "        name.append((allVid[i])['snippet'][\"channelTitle\"])\n",
    "    data = {\"Channel Name\":name, \"title\":title, \"date\":publishedDate, \"thumbnailUrl\": thumbnails, \n",
    "            \"Views\":view_count, \"Description\":desc, \n",
    "            \"Duration\":duration,\"Like\":like, \"Subscribers\":subcriber_count_list}\n",
    "    df = pd.DataFrame(data)\n",
    "    df[\"date\"]= pd.to_datetime(df[\"date\"])\n",
    "    df[\"date\"]= df[\"date\"].dt.tz_localize(None)\n",
    "    return df"
   ]
  },
  {
   "cell_type": "markdown",
   "id": "e0772c4f-14dd-47bd-bd96-5b62858f173b",
   "metadata": {
    "tags": []
   },
   "source": [
    "# Add Your Api Key here"
   ]
  },
  {
   "cell_type": "code",
   "execution_count": 25,
   "id": "4271e999-f5f0-46e0-99a6-ae0b8b628cff",
   "metadata": {},
   "outputs": [],
   "source": [
    "\"\"\"\n",
    "To get the API Key follow these steps \n",
    "    1) go to google console \n",
    "    2) Create a new Project \n",
    "    3) Add youtube data api v3 and enable it \n",
    "    4) Manage —> credentials —> Create credentials \n",
    "    5) It will create an api that refreshes everyday at 4pm\n",
    "    6) Qouta is 10k\n",
    "\"\"\"\n",
    "with open('secrets.json', 'r') as f:\n",
    "    SECRETS = json.load(f)\n",
    "\n",
    "youTubeApiKey = SECRETS[\"YOUTUBE_API_KEY\"]\n",
    "\n",
    "youtube = build('youtube','v3', developerKey=youTubeApiKey)"
   ]
  },
  {
   "cell_type": "markdown",
   "id": "08305f0b-1bfe-4205-88e2-b961d61de01a",
   "metadata": {
    "tags": []
   },
   "source": [
    "# Searches for the unique channels that return when you search bitcoin"
   ]
  },
  {
   "cell_type": "code",
   "execution_count": 26,
   "id": "1766a150-d1bb-4a22-8d01-c0da26d01ace",
   "metadata": {},
   "outputs": [],
   "source": [
    "top_bitcoin_channels = youtube.search().list(part = \"snippet\", q = \"crypto\", maxResults = 10).execute()\n",
    "# top_bitcoin_channels['items']"
   ]
  },
  {
   "cell_type": "code",
   "execution_count": 27,
   "id": "4281a556-3ef5-4865-8e5f-a55ad734b6aa",
   "metadata": {},
   "outputs": [
    {
     "data": {
      "application/vnd.jupyter.widget-view+json": {
       "model_id": "1fb854b46b3b4c78bb3bb413e090c73c",
       "version_major": 2,
       "version_minor": 0
      },
      "text/plain": [
       "  0%|          | 0/10 [00:00<?, ?it/s]"
      ]
     },
     "metadata": {},
     "output_type": "display_data"
    }
   ],
   "source": [
    "potential_channel_dict = {}\n",
    "for item in tqdm(top_bitcoin_channels['items']):\n",
    "    potential_channel_dict[(item['snippet']['channelTitle'])] = item['snippet']['channelId']"
   ]
  },
  {
   "cell_type": "code",
   "execution_count": 28,
   "id": "ce06b401-9bac-4273-9bf2-686577857723",
   "metadata": {
    "scrolled": true
   },
   "outputs": [
    {
     "data": {
      "text/plain": [
       "dict_keys(['CryptosRUs', 'BitBoy Crypto', 'Eric Krown Crypto', 'CRYPTO', 'Michael Pizzino', 'Crypto Banter', 'Greg Dickerson', 'CNBC Television'])"
      ]
     },
     "execution_count": 28,
     "metadata": {},
     "output_type": "execute_result"
    }
   ],
   "source": [
    "potential_channel_dict.keys()"
   ]
  },
  {
   "cell_type": "code",
   "execution_count": 29,
   "id": "755e30a2-00ff-49ae-b2e8-46379a8af291",
   "metadata": {},
   "outputs": [],
   "source": [
    "blackListChannels = ['Tesla [Live Elon Musk]','CNBC Television','Kitco NEWS','Naeem','Jason Pizzino','Cardano CEO','Crypto Fanta','ARK Invest ','Savvy Finance',\n",
    "                    \"BTC Moneymaker\", \"Nathalie Bitcoinsensus\", \"Cryptolyze\", \"Enter The Crypto Matrix\",\"Wolves of Crypto\", \"Crypto Dog\",\"Kuch New For You\"]"
   ]
  },
  {
   "cell_type": "code",
   "execution_count": 30,
   "id": "7eefc251-1d09-4f22-a3a1-0f526e86f9b3",
   "metadata": {},
   "outputs": [],
   "source": [
    "for channel in blackListChannels:\n",
    "    if channel in potential_channel_dict.keys():\n",
    "        del potential_channel_dict[channel]"
   ]
  },
  {
   "cell_type": "markdown",
   "id": "130e6313-a302-4307-bbe8-607d11ccbcb3",
   "metadata": {
    "tags": []
   },
   "source": [
    "# Loops through all unique channels and gets data for each "
   ]
  },
  {
   "cell_type": "code",
   "execution_count": 31,
   "id": "863927c3-086e-49ec-aaab-813e21efce72",
   "metadata": {
    "scrolled": true,
    "tags": []
   },
   "outputs": [
    {
     "name": "stdout",
     "output_type": "stream",
     "text": [
      "\n",
      "CryptosRUs File already exists\n",
      "\n",
      "BitBoy Crypto File already exists\n",
      "\n",
      "Eric Krown Crypto File already exists\n",
      "\n",
      "CRYPTO File already exists\n",
      "\n",
      "Michael Pizzino File already exists\n",
      "\n",
      "Crypto Banter File already exists\n",
      "\n",
      "Greg Dickerson File already exists\n"
     ]
    }
   ],
   "source": [
    "import os\n",
    "from googleapiclient.errors import HttpError\n",
    "\n",
    "potential_channel_Ids = list(potential_channel_dict.values())\n",
    "potential_channel_Name = list(potential_channel_dict.keys())\n",
    "verbose_exception = True\n",
    "\n",
    "for i in range(len(potential_channel_Ids)):\n",
    "    temp_df = None\n",
    "    try:\n",
    "        if not os.path.isfile(f\"./final_data_folder/{potential_channel_Name[i]}.xlsx\"): # Will only fetch if the file has not been pulled yet\n",
    "            print(f'\\nLooking at {potential_channel_Name[i]} YouTube Channel')\n",
    "            temp_df = get_youtube_data(channel_name = potential_channel_Ids[i], verbose = False)\n",
    "            temp_df.to_excel(f\"./final_data_folder/{potential_channel_Name[i]}.xlsx\")\n",
    "        else:\n",
    "            print(f'\\n{potential_channel_Name[i]} File already exists')\n",
    "    except HttpError as e:\n",
    "        print(\"You probably ran out of your daily qouta \\n\")\n",
    "        if verbose_exception:\n",
    "            print(e)\n",
    "        break\n",
    "    except Exception as p:\n",
    "        print('Some other error')\n",
    "        if verbose_exception:\n",
    "            print(p)\n"
   ]
  },
  {
   "cell_type": "markdown",
   "id": "3cddd9f6-60c6-4c40-bd63-bff5d2dc0c4f",
   "metadata": {
    "tags": []
   },
   "source": [
    "# Combines all the unique excels in to 1 "
   ]
  },
  {
   "cell_type": "code",
   "execution_count": 32,
   "id": "c8d9488f-c4c2-4fb5-9bdf-787735fe413d",
   "metadata": {},
   "outputs": [
    {
     "name": "stdout",
     "output_type": "stream",
     "text": [
      "Final Excel sheet now generated in the combined folder:\n"
     ]
    }
   ],
   "source": [
    "# getting excel files to be merged from the Desktop \n",
    "cwd = os.getcwd() \n",
    "path = os.path.join(cwd +\"\\\\final_data_folder\" )\n",
    "\n",
    "\n",
    "# read all the files with extension .xlsx i.e. excel \n",
    "filenames = glob.glob(path + \"\\*.xlsx\")\n",
    "# print('File names:', filenames)\n",
    "\n",
    "# empty data frame for the new output excel file with the merged excel files\n",
    "outputxlsx = pd.DataFrame()\n",
    "\n",
    "# for loop to iterate all excel files\n",
    "for file in filenames:\n",
    "    # using concat for excel files\n",
    "    # after reading them with read_excel()\n",
    "    df = pd.concat(pd.read_excel( file, sheet_name=None), ignore_index=True, sort=False)\n",
    "\n",
    "    # appending data of excel files\n",
    "    outputxlsx = outputxlsx.append( df, ignore_index=True)\n",
    "\n",
    "if not os.path.isdir(path + \"\\\\Combined\"):\n",
    "    os.mkdir(path + \"\\\\Combined\")\n",
    "outputxlsx.to_excel(path + \"\\\\Combined\\\\Output.xlsx\", index=False)\n",
    "print('Final Excel sheet now generated in the combined folder:')"
   ]
  },
  {
   "cell_type": "code",
   "execution_count": 33,
   "id": "53f63436-4976-4ec3-adf2-c10b095228d5",
   "metadata": {},
   "outputs": [
    {
     "data": {
      "text/plain": [
       "114"
      ]
     },
     "execution_count": 33,
     "metadata": {},
     "output_type": "execute_result"
    }
   ],
   "source": [
    "outputxlsx['Channel Name'].nunique()"
   ]
  },
  {
   "cell_type": "code",
   "execution_count": 34,
   "id": "96b84e88-7e07-4681-935a-95d84e8d3b1e",
   "metadata": {},
   "outputs": [],
   "source": [
    "mask = (outputxlsx['date'] > datetime(year = 2021, month = 10, day = 25))                                                              # Remove dates more than 6 months ago\n",
    "outputxlsx = outputxlsx.loc[mask]"
   ]
  },
  {
   "cell_type": "code",
   "execution_count": 35,
   "id": "0ed5178b-7486-4c9a-8e52-56f69adf6432",
   "metadata": {},
   "outputs": [
    {
     "data": {
      "text/html": [
       "<div>\n",
       "<style scoped>\n",
       "    .dataframe tbody tr th:only-of-type {\n",
       "        vertical-align: middle;\n",
       "    }\n",
       "\n",
       "    .dataframe tbody tr th {\n",
       "        vertical-align: top;\n",
       "    }\n",
       "\n",
       "    .dataframe thead th {\n",
       "        text-align: right;\n",
       "    }\n",
       "</style>\n",
       "<table border=\"1\" class=\"dataframe\">\n",
       "  <thead>\n",
       "    <tr style=\"text-align: right;\">\n",
       "      <th></th>\n",
       "      <th>Unnamed: 0</th>\n",
       "      <th>Channel Name</th>\n",
       "      <th>title</th>\n",
       "      <th>date</th>\n",
       "      <th>thumbnailUrl</th>\n",
       "      <th>Views</th>\n",
       "      <th>Description</th>\n",
       "      <th>Duration</th>\n",
       "      <th>Like</th>\n",
       "      <th>Subscribers</th>\n",
       "    </tr>\n",
       "  </thead>\n",
       "  <tbody>\n",
       "    <tr>\n",
       "      <th>counts</th>\n",
       "      <td>23239</td>\n",
       "      <td>23239</td>\n",
       "      <td>23239</td>\n",
       "      <td>23239</td>\n",
       "      <td>23239</td>\n",
       "      <td>23239</td>\n",
       "      <td>23070</td>\n",
       "      <td>23239</td>\n",
       "      <td>23239</td>\n",
       "      <td>23239</td>\n",
       "    </tr>\n",
       "    <tr>\n",
       "      <th>uniques</th>\n",
       "      <td>1644</td>\n",
       "      <td>110</td>\n",
       "      <td>20028</td>\n",
       "      <td>23215</td>\n",
       "      <td>23239</td>\n",
       "      <td>16428</td>\n",
       "      <td>14402</td>\n",
       "      <td>4237</td>\n",
       "      <td>5382</td>\n",
       "      <td>108</td>\n",
       "    </tr>\n",
       "    <tr>\n",
       "      <th>missing</th>\n",
       "      <td>0</td>\n",
       "      <td>0</td>\n",
       "      <td>0</td>\n",
       "      <td>0</td>\n",
       "      <td>0</td>\n",
       "      <td>0</td>\n",
       "      <td>169</td>\n",
       "      <td>0</td>\n",
       "      <td>0</td>\n",
       "      <td>0</td>\n",
       "    </tr>\n",
       "    <tr>\n",
       "      <th>missing_perc</th>\n",
       "      <td>0%</td>\n",
       "      <td>0%</td>\n",
       "      <td>0%</td>\n",
       "      <td>0%</td>\n",
       "      <td>0%</td>\n",
       "      <td>0%</td>\n",
       "      <td>0.73%</td>\n",
       "      <td>0%</td>\n",
       "      <td>0%</td>\n",
       "      <td>0%</td>\n",
       "    </tr>\n",
       "    <tr>\n",
       "      <th>types</th>\n",
       "      <td>numeric</td>\n",
       "      <td>categorical</td>\n",
       "      <td>categorical</td>\n",
       "      <td>date</td>\n",
       "      <td>unique</td>\n",
       "      <td>numeric</td>\n",
       "      <td>categorical</td>\n",
       "      <td>categorical</td>\n",
       "      <td>numeric</td>\n",
       "      <td>numeric</td>\n",
       "    </tr>\n",
       "  </tbody>\n",
       "</table>\n",
       "</div>"
      ],
      "text/plain": [
       "             Unnamed: 0 Channel Name        title   date thumbnailUrl  \\\n",
       "counts            23239        23239        23239  23239        23239   \n",
       "uniques            1644          110        20028  23215        23239   \n",
       "missing               0            0            0      0            0   \n",
       "missing_perc         0%           0%           0%     0%           0%   \n",
       "types           numeric  categorical  categorical   date       unique   \n",
       "\n",
       "                Views  Description     Duration     Like Subscribers  \n",
       "counts          23239        23070        23239    23239       23239  \n",
       "uniques         16428        14402         4237     5382         108  \n",
       "missing             0          169            0        0           0  \n",
       "missing_perc       0%        0.73%           0%       0%          0%  \n",
       "types         numeric  categorical  categorical  numeric     numeric  "
      ]
     },
     "execution_count": 35,
     "metadata": {},
     "output_type": "execute_result"
    }
   ],
   "source": [
    "dfs = DataFrameSummary(outputxlsx)\n",
    "dfs.columns_stats"
   ]
  },
  {
   "cell_type": "code",
   "execution_count": 36,
   "id": "d85dd32a-93f4-4ce0-ae92-f1db60d3ca64",
   "metadata": {},
   "outputs": [
    {
     "data": {
      "text/html": [
       "<div>\n",
       "<style scoped>\n",
       "    .dataframe tbody tr th:only-of-type {\n",
       "        vertical-align: middle;\n",
       "    }\n",
       "\n",
       "    .dataframe tbody tr th {\n",
       "        vertical-align: top;\n",
       "    }\n",
       "\n",
       "    .dataframe thead th {\n",
       "        text-align: right;\n",
       "    }\n",
       "</style>\n",
       "<table border=\"1\" class=\"dataframe\">\n",
       "  <thead>\n",
       "    <tr style=\"text-align: right;\">\n",
       "      <th></th>\n",
       "      <th>count</th>\n",
       "      <th>mean</th>\n",
       "      <th>std</th>\n",
       "      <th>min</th>\n",
       "      <th>25%</th>\n",
       "      <th>50%</th>\n",
       "      <th>75%</th>\n",
       "      <th>max</th>\n",
       "    </tr>\n",
       "  </thead>\n",
       "  <tbody>\n",
       "    <tr>\n",
       "      <th>Unnamed: 0</th>\n",
       "      <td>23239.0</td>\n",
       "      <td>252.401523</td>\n",
       "      <td>315.330049</td>\n",
       "      <td>0.0</td>\n",
       "      <td>56.0</td>\n",
       "      <td>134.0</td>\n",
       "      <td>287.0</td>\n",
       "      <td>1643.0</td>\n",
       "    </tr>\n",
       "    <tr>\n",
       "      <th>Views</th>\n",
       "      <td>23239.0</td>\n",
       "      <td>24499.199578</td>\n",
       "      <td>168791.713659</td>\n",
       "      <td>7.0</td>\n",
       "      <td>3273.5</td>\n",
       "      <td>8300.0</td>\n",
       "      <td>25944.5</td>\n",
       "      <td>24719111.0</td>\n",
       "    </tr>\n",
       "    <tr>\n",
       "      <th>Like</th>\n",
       "      <td>23239.0</td>\n",
       "      <td>1526.014028</td>\n",
       "      <td>2771.801317</td>\n",
       "      <td>0.0</td>\n",
       "      <td>207.0</td>\n",
       "      <td>565.0</td>\n",
       "      <td>1616.5</td>\n",
       "      <td>156093.0</td>\n",
       "    </tr>\n",
       "    <tr>\n",
       "      <th>Subscribers</th>\n",
       "      <td>23239.0</td>\n",
       "      <td>217070.796420</td>\n",
       "      <td>307517.927542</td>\n",
       "      <td>215.0</td>\n",
       "      <td>41800.0</td>\n",
       "      <td>84600.0</td>\n",
       "      <td>268000.0</td>\n",
       "      <td>1990000.0</td>\n",
       "    </tr>\n",
       "  </tbody>\n",
       "</table>\n",
       "</div>"
      ],
      "text/plain": [
       "               count           mean            std    min      25%      50%  \\\n",
       "Unnamed: 0   23239.0     252.401523     315.330049    0.0     56.0    134.0   \n",
       "Views        23239.0   24499.199578  168791.713659    7.0   3273.5   8300.0   \n",
       "Like         23239.0    1526.014028    2771.801317    0.0    207.0    565.0   \n",
       "Subscribers  23239.0  217070.796420  307517.927542  215.0  41800.0  84600.0   \n",
       "\n",
       "                  75%         max  \n",
       "Unnamed: 0      287.0      1643.0  \n",
       "Views         25944.5  24719111.0  \n",
       "Like           1616.5    156093.0  \n",
       "Subscribers  268000.0   1990000.0  "
      ]
     },
     "execution_count": 36,
     "metadata": {},
     "output_type": "execute_result"
    }
   ],
   "source": [
    "outputxlsx.describe().T"
   ]
  },
  {
   "cell_type": "code",
   "execution_count": null,
   "id": "0554e4e2-1278-4bb3-b93d-8f02d2180f35",
   "metadata": {},
   "outputs": [],
   "source": []
  },
  {
   "cell_type": "code",
   "execution_count": null,
   "id": "395725bb-02ff-4b76-9a1d-fdd1a90b4db1",
   "metadata": {},
   "outputs": [],
   "source": []
  }
 ],
 "metadata": {
  "kernelspec": {
   "display_name": "Python 3 (ipykernel)",
   "language": "python",
   "name": "python3"
  },
  "language_info": {
   "codemirror_mode": {
    "name": "ipython",
    "version": 3
   },
   "file_extension": ".py",
   "mimetype": "text/x-python",
   "name": "python",
   "nbconvert_exporter": "python",
   "pygments_lexer": "ipython3",
   "version": "3.9.7"
  }
 },
 "nbformat": 4,
 "nbformat_minor": 5
}
