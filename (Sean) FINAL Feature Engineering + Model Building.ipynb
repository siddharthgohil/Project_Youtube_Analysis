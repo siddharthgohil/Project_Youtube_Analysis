{
 "cells": [
  {
   "cell_type": "markdown",
   "metadata": {
    "id": "PW0ZNGB3f0b9"
   },
   "source": [
    "# BT4222 Group 12 Model Building"
   ]
  },
  {
   "cell_type": "code",
   "execution_count": 1,
   "metadata": {
    "colab": {
     "base_uri": "https://localhost:8080/"
    },
    "executionInfo": {
     "elapsed": 3647,
     "status": "ok",
     "timestamp": 1649306403671,
     "user": {
      "displayName": "Sean Lee",
      "userId": "16401441034184938846"
     },
     "user_tz": -480
    },
    "id": "tuGLQoQdfSuN",
    "outputId": "bee12570-d4de-4686-d241-8a2d37eee459"
   },
   "outputs": [
    {
     "name": "stdout",
     "output_type": "stream",
     "text": [
      "Collecting demoji\n",
      "  Downloading demoji-1.1.0-py3-none-any.whl (42 kB)\n",
      "     ---------------------------------------- 42.9/42.9 KB 2.2 MB/s eta 0:00:00\n",
      "Installing collected packages: demoji\n",
      "Successfully installed demoji-1.1.0\n"
     ]
    }
   ],
   "source": [
    "!pip install demoji"
   ]
  },
  {
   "cell_type": "code",
   "execution_count": 3,
   "metadata": {},
   "outputs": [
    {
     "name": "stdout",
     "output_type": "stream",
     "text": [
      "Collecting hyperopt\n",
      "  Downloading hyperopt-0.2.7-py2.py3-none-any.whl (1.6 MB)\n",
      "     ---------------------------------------- 1.6/1.6 MB 16.7 MB/s eta 0:00:00\n",
      "Requirement already satisfied: cloudpickle in c:\\users\\sid\\anaconda3\\lib\\site-packages (from hyperopt) (2.0.0)\n",
      "Requirement already satisfied: future in c:\\users\\sid\\anaconda3\\lib\\site-packages (from hyperopt) (0.18.2)\n",
      "Requirement already satisfied: scipy in c:\\users\\sid\\anaconda3\\lib\\site-packages (from hyperopt) (1.7.1)\n",
      "Requirement already satisfied: six in c:\\users\\sid\\anaconda3\\lib\\site-packages (from hyperopt) (1.16.0)\n",
      "Requirement already satisfied: networkx>=2.2 in c:\\users\\sid\\anaconda3\\lib\\site-packages (from hyperopt) (2.6.3)\n",
      "Requirement already satisfied: tqdm in c:\\users\\sid\\anaconda3\\lib\\site-packages (from hyperopt) (4.62.3)\n",
      "Requirement already satisfied: numpy in c:\\users\\sid\\anaconda3\\lib\\site-packages (from hyperopt) (1.20.3)\n",
      "Collecting py4j\n",
      "  Downloading py4j-0.10.9.5-py2.py3-none-any.whl (199 kB)\n",
      "     ---------------------------------------- 199.7/199.7 KB ? eta 0:00:00\n",
      "Requirement already satisfied: colorama in c:\\users\\sid\\anaconda3\\lib\\site-packages (from tqdm->hyperopt) (0.4.4)\n",
      "Installing collected packages: py4j, hyperopt\n",
      "Successfully installed hyperopt-0.2.7 py4j-0.10.9.5\n"
     ]
    }
   ],
   "source": [
    "!pip install hyperopt"
   ]
  },
  {
   "cell_type": "markdown",
   "metadata": {
    "id": "z4dtQ5f5fyYt"
   },
   "source": [
    "## Import Libraries"
   ]
  },
  {
   "cell_type": "code",
   "execution_count": 4,
   "metadata": {
    "executionInfo": {
     "elapsed": 1200,
     "status": "ok",
     "timestamp": 1649306404867,
     "user": {
      "displayName": "Sean Lee",
      "userId": "16401441034184938846"
     },
     "user_tz": -480
    },
    "id": "7s65iYM9fb_w"
   },
   "outputs": [],
   "source": [
    "import pandas as pd\n",
    "import numpy as np\n",
    "import seaborn as sns\n",
    "import matplotlib.pyplot as plt\n",
    "from tqdm import tqdm\n",
    "import re\n",
    "from datetime import datetime, timedelta\n",
    "import time\n",
    "import demoji\n",
    "import os\n",
    "import pickle\n",
    "import warnings\n",
    "\n",
    "# helper libraries\n",
    "from sklearn.preprocessing import OneHotEncoder\n",
    "from sklearn.preprocessing import MinMaxScaler\n",
    "from sklearn.model_selection import train_test_split, StratifiedKFold\n",
    "from sklearn import metrics\n",
    "\n",
    "# models\n",
    "from sklearn.feature_extraction.text import TfidfVectorizer\n",
    "from sklearn.feature_extraction.text import CountVectorizer\n",
    "from sklearn import tree\n",
    "from xgboost import XGBRegressor\n",
    "from hyperopt import hp, fmin, tpe, STATUS_OK, Trials\n",
    "from hyperopt.pyll import scope\n",
    "\n",
    "warnings.filterwarnings(\"ignore\")"
   ]
  },
  {
   "cell_type": "markdown",
   "metadata": {},
   "source": [
    " Data is manually cleaned after EDA"
   ]
  },
  {
   "cell_type": "code",
   "execution_count": 6,
   "metadata": {
    "colab": {
     "base_uri": "https://localhost:8080/"
    },
    "executionInfo": {
     "elapsed": 48529,
     "status": "ok",
     "timestamp": 1649306453392,
     "user": {
      "displayName": "Sean Lee",
      "userId": "16401441034184938846"
     },
     "user_tz": -480
    },
    "id": "pWa-G4Jifd0J",
    "outputId": "3cfe9178-a685-4327-df17-f6a4f7c931a8"
   },
   "outputs": [],
   "source": [
    "# from google.colab import drive\n",
    "# drive.mount('/content/gdrive')\n",
    "\n",
    "bitcoin_data_final = pd.read_excel('ProcessedData_Cleaned_With_Model_updated_v2.xlsx')"
   ]
  },
  {
   "cell_type": "markdown",
   "metadata": {
    "id": "QhiuhtOugFwk"
   },
   "source": [
    "## Feature Engineering + Simple EDA"
   ]
  },
  {
   "cell_type": "code",
   "execution_count": 7,
   "metadata": {
    "colab": {
     "base_uri": "https://localhost:8080/",
     "height": 296
    },
    "executionInfo": {
     "elapsed": 705,
     "status": "ok",
     "timestamp": 1649306454092,
     "user": {
      "displayName": "Sean Lee",
      "userId": "16401441034184938846"
     },
     "user_tz": -480
    },
    "id": "hWx1CraYfjOI",
    "outputId": "05326ec8-45c0-4f8d-e1c8-40c73ce3fc65"
   },
   "outputs": [
    {
     "data": {
      "text/plain": [
       "<AxesSubplot:xlabel='target'>"
      ]
     },
     "execution_count": 7,
     "metadata": {},
     "output_type": "execute_result"
    },
    {
     "data": {
      "image/png": "[encoded data removed]",
      "text/plain": [
       "<Figure size 432x288 with 1 Axes>"
      ]
     },
     "metadata": {
      "needs_background": "light"
     },
     "output_type": "display_data"
    }
   ],
   "source": [
    "### remove numerical tokens\n",
    "bitcoin_data_final['title_lemmatized_nonum'] = bitcoin_data_final['title_lemmatized'].apply(str).apply(lambda x: re.sub(r'\\d+', '', x))\n",
    "\n",
    "### convert emojis to list of emojis (str)\n",
    "def convert_emoji_to_text(text):\n",
    "    emoji_list = list(set(demoji.findall_list(text)))\n",
    "    return ['emoji ' + i for i in emoji_list]\n",
    "bitcoin_data_final['emojis'] = bitcoin_data_final['emojis'].apply(str).apply(lambda x: convert_emoji_to_text(x))\n",
    "\n",
    "### target variable\n",
    "bitcoin_data_final['target'] = bitcoin_data_final['Views']/(bitcoin_data_final['Subscribers'])\n",
    "sns.boxplot(bitcoin_data_final['target'])"
   ]
  },
  {
   "cell_type": "code",
   "execution_count": 8,
   "metadata": {
    "colab": {
     "base_uri": "https://localhost:8080/"
    },
    "executionInfo": {
     "elapsed": 10,
     "status": "ok",
     "timestamp": 1649306454092,
     "user": {
      "displayName": "Sean Lee",
      "userId": "16401441034184938846"
     },
     "user_tz": -480
    },
    "id": "9NhXIc5BgTtH",
    "outputId": "42d8a815-18f0-4b28-c86b-2347a4b7de21"
   },
   "outputs": [
    {
     "data": {
      "text/plain": [
       "(13675, 33)"
      ]
     },
     "execution_count": 8,
     "metadata": {},
     "output_type": "execute_result"
    }
   ],
   "source": [
    "def remove_outlier_IQR(df):\n",
    "    Q1=df['target'].quantile(0.25)\n",
    "    Q3=df['target'].quantile(0.75)\n",
    "    IQR=Q3-Q1\n",
    "    df_final=df[~((df['target']<(Q1-1.5*IQR)) | (df['target']>(Q3+1.5*IQR)))]\n",
    "    return df_final.reset_index(drop=True)\n",
    "\n",
    "bitcoin_data_final = remove_outlier_IQR(bitcoin_data_final)\n",
    "\n",
    "bitcoin_data_final.shape"
   ]
  },
  {
   "cell_type": "code",
   "execution_count": 13,
   "metadata": {
    "executionInfo": {
     "elapsed": 8,
     "status": "ok",
     "timestamp": 1649306454092,
     "user": {
      "displayName": "Sean Lee",
      "userId": "16401441034184938846"
     },
     "user_tz": -480
    },
    "id": "ihG63dKvg3-l"
   },
   "outputs": [],
   "source": [
    "### determine categorical and numerical features\n",
    "numerical_ix = ['HashtagCount', 'ExclamationCount','QuestionCount', 'NumWords']\n",
    "categorical_ix = ['HasHashtag','Total Seconds bins','HasCaps','HasPrediction','emojis']\n",
    "text_chosen = 'title_lemmatized_nonum'"
   ]
  },
  {
   "cell_type": "code",
   "execution_count": 14,
   "metadata": {
    "executionInfo": {
     "elapsed": 9,
     "status": "ok",
     "timestamp": 1649306454093,
     "user": {
      "displayName": "Sean Lee",
      "userId": "16401441034184938846"
     },
     "user_tz": -480
    },
    "id": "nb_d1-zoiZ3k"
   },
   "outputs": [],
   "source": [
    "### setup explanatory and target variables\n",
    "selected_cols =  numerical_ix + categorical_ix\n",
    "selected_cols.append(text_chosen)\n",
    "\n",
    "X, y = bitcoin_data_final[selected_cols],  bitcoin_data_final['target']"
   ]
  },
  {
   "cell_type": "code",
   "execution_count": 15,
   "metadata": {
    "colab": {
     "base_uri": "https://localhost:8080/"
    },
    "executionInfo": {
     "elapsed": 8,
     "status": "ok",
     "timestamp": 1649306454093,
     "user": {
      "displayName": "Sean Lee",
      "userId": "16401441034184938846"
     },
     "user_tz": -480
    },
    "id": "ohx5DIcU-6Us",
    "outputId": "b21b4bdf-25c9-4893-918b-8c8ef6791f05"
   },
   "outputs": [
    {
     "data": {
      "text/plain": [
       "(13675, 10)"
      ]
     },
     "execution_count": 15,
     "metadata": {},
     "output_type": "execute_result"
    }
   ],
   "source": [
    "X.shape"
   ]
  },
  {
   "cell_type": "code",
   "execution_count": 16,
   "metadata": {
    "executionInfo": {
     "elapsed": 7,
     "status": "ok",
     "timestamp": 1649306454093,
     "user": {
      "displayName": "Sean Lee",
      "userId": "16401441034184938846"
     },
     "user_tz": -480
    },
    "id": "LWhBQWrhVJpg"
   },
   "outputs": [],
   "source": [
    "X_train, X_test, y_train, y_test = train_test_split(X, y,\n",
    "                                                    test_size=0.2,\n",
    "                                                    random_state=2022,\n",
    "                                                    shuffle = True)\n",
    "\n",
    "X_train, y_train = X_train.reset_index(drop=True), y_train.reset_index(drop=True)\n",
    "X_test, y_test = X_test.reset_index(drop=True), y_test.reset_index(drop=True)"
   ]
  },
  {
   "cell_type": "markdown",
   "metadata": {
    "id": "PHpwrbofiruU"
   },
   "source": [
    "## Objective Function"
   ]
  },
  {
   "cell_type": "code",
   "execution_count": 20,
   "metadata": {
    "executionInfo": {
     "elapsed": 7,
     "status": "ok",
     "timestamp": 1649306454094,
     "user": {
      "displayName": "Sean Lee",
      "userId": "16401441034184938846"
     },
     "user_tz": -480
    },
    "id": "xmev9EzBiylv"
   },
   "outputs": [],
   "source": [
    "### helper functions\n",
    "\n",
    "def evaluate(y_true, y_pred, vect, model, text_only=True, obj_func=False):\n",
    "    \"\"\"\n",
    "    Main objective of this function is to calculate evaluation metrics such as RMSE and MSE based on given predicted and actual target values\n",
    "\n",
    "    Parameters:\n",
    "    ---------\n",
    "    (1) y_true: actual target variable\n",
    "    (2) y_pred: model predicted target variable\n",
    "    (3) vect: vector used for text column (TfidfVectorizer / CountVectorizer)\n",
    "    (4) model: regression model used to fit data\n",
    "    (5) text_only (optional): boolean flag to indicate if only text data was used or not\n",
    "\n",
    "    Returns:\n",
    "    -------\n",
    "    if obj_func = True:\n",
    "        (1) dictionary of metric results\n",
    "    else:\n",
    "        (1) RMSE score\n",
    "    \n",
    "    \"\"\"\n",
    "    \n",
    "    def mse(y_predicted, y_true):\n",
    "        return np.mean(np.square(np.subtract(np.array(y_predicted), np.array(y_true))))\n",
    "    \n",
    "    mse = mse(y_pred, y_true)\n",
    "    rmse = np.sqrt(mse)\n",
    "\n",
    "    if obj_func:\n",
    "        return rmse\n",
    "\n",
    "    else:\n",
    "        return {\"MSE\": mse, \n",
    "                \"RMSE\": rmse,\n",
    "                \"Vect Used\": vect,\n",
    "                \"Model Used\": model,\n",
    "                \"TextOnly\": text_only}\n",
    "\n",
    "def feature_encoding(X_train, X_test, vect, text_only=True):\n",
    "    \"\"\"\n",
    "    Main objective of this function is to convert original dataset into features\n",
    "        - text data to document term matrix\n",
    "        - one hot encoding on emojis\n",
    "        - one hot encoding on categorical variables\n",
    "        - concatenate all features into a single df\n",
    "\n",
    "    Parameters:\n",
    "    ---------\n",
    "    (1) X_train: training data set (done after kfold except testing on out-of-sample data)\n",
    "    (2) X_test: test data set (done after kfold except testing on out-of-sample data)\n",
    "    (3) vect: vector used for text column (TfidfVectorizer / CountVectorizer)\n",
    "    (4) text_only (optional): boolean flag to indicate if only text data was used or not\n",
    "\n",
    "    Returns:\n",
    "    -------\n",
    "    (1) X_train_combined:\n",
    "    (2) X_test_combined:\n",
    "    \n",
    "    \"\"\"\n",
    "\n",
    "    X_train_mat = vect.fit_transform(X_train[text_chosen])\n",
    "    X_test_mat = vect.transform(X_test[text_chosen])\n",
    "    features = vect.get_feature_names_out()\n",
    "\n",
    "    X_train_dtm = pd.DataFrame(data=X_train_mat.toarray(), columns = features)\n",
    "    X_test_dtm = pd.DataFrame(data=X_test_mat.toarray(), columns = features)\n",
    "    \n",
    "    if text_only:\n",
    "        \n",
    "        X_train_combined, X_test_combined = X_train_dtm, X_test_dtm\n",
    "\n",
    "    else:\n",
    "      \n",
    "        # numerical features\n",
    "        X_train_num_transformed = X_train[numerical_ix]\n",
    "        X_test_num_transformed = X_test[numerical_ix]\n",
    "\n",
    "        # emojis\n",
    "        one_hot_emoji_train = pd.get_dummies(X_train['emojis'].apply(pd.Series).stack()).sum(level=0)\n",
    "        one_hot_emoji_test = pd.get_dummies(X_test['emojis'].apply(pd.Series).stack()).sum(level=0)\n",
    "        one_hot_emoji_test_dropped = one_hot_emoji_test.drop(columns=[x for x in one_hot_emoji_test.columns if x not in one_hot_emoji_train.columns])\n",
    "        for col in one_hot_emoji_train.columns:\n",
    "            if col not in one_hot_emoji_test_dropped.columns:\n",
    "                one_hot_emoji_test_dropped[col] = 0\n",
    "\n",
    "        # video length\n",
    "        one_hot_seconds_train = pd.get_dummies(X_train['Total Seconds bins'].apply(pd.Series).stack()).sum(level=0) # one-hot encoding\n",
    "        one_hot_seconds_train.columns = [x.replace('(','').replace(']','').replace(',', ' to') + ' seconds' for x in one_hot_seconds_train.columns]\n",
    "        one_hot_seconds_test = pd.get_dummies(X_test['Total Seconds bins'].apply(pd.Series).stack()).sum(level=0) # one-hot encoding\n",
    "        one_hot_seconds_test.columns = [x.replace('(','').replace(']','').replace(',', ' to') + ' seconds' for x in one_hot_seconds_test.columns]\n",
    "        one_hot_seconds_test = one_hot_seconds_test.reindex(columns = one_hot_seconds_train.columns, fill_value=0)\n",
    "\n",
    "        # combine all features\n",
    "        X_train_combined = X_train_dtm.join(one_hot_emoji_train).join(one_hot_seconds_train).join(X_train[['HasHashtag','HasCaps','HasPrediction']]).join(X_train_num_transformed).fillna(0)\n",
    "        X_test_combined = X_test_dtm.join(one_hot_emoji_test_dropped).join(one_hot_seconds_test).join(X_test[['HasHashtag','HasCaps','HasPrediction']]).join(X_test_num_transformed).fillna(0)\n",
    "    \n",
    "    return X_train_combined, X_test_combined\n",
    "\n",
    "def create_folds(df, n_s, n_grp, plot=False):\n",
    "    df['Fold'] = -1\n",
    "\n",
    "    kf = StratifiedKFold(n_splits=n_s, shuffle=True)\n",
    "    df['grp'] = pd.cut(df.target, n_grp, labels=False)\n",
    "    target = df.grp\n",
    "\n",
    "    for fold_no, (t, v) in enumerate(kf.split(target, target)):\n",
    "        df.loc[v, 'Fold'] = fold_no\n",
    "    \n",
    "    ### plot k-fold distribution to ensure equal distribution\n",
    "    if plot:\n",
    "        fig, axs = plt.subplots(1, n_s, sharex=True, sharey=True, figsize=(10,4))\n",
    "        for i, ax in enumerate(axs):\n",
    "            ax.hist(df[df.Fold == i]['target'], bins=100, density=True, label=f'Fold-{i}')\n",
    "            if i == 0:\n",
    "                ax.set_ylabel('Frequency')\n",
    "            if i == 2:\n",
    "                ax.set_xlabel(\"Target\")\n",
    "            ax.legend(frameon=False, handlelength=0)\n",
    "        plt.tight_layout()\n",
    "        plt.show()\n",
    "\n",
    "    return df.drop(columns=['grp'])"
   ]
  },
  {
   "cell_type": "code",
   "execution_count": 34,
   "metadata": {
    "executionInfo": {
     "elapsed": 7,
     "status": "ok",
     "timestamp": 1649306454094,
     "user": {
      "displayName": "Sean Lee",
      "userId": "16401441034184938846"
     },
     "user_tz": -480
    },
    "id": "510BK3VZHVzm"
   },
   "outputs": [],
   "source": [
    "### main training function (stratified kfold)\n",
    "\n",
    "def resample_train_and_evaluate_model(x, y, vect, model, text_only=True, obj_function=False, plot=False):\n",
    "    \"\"\"\n",
    "\n",
    "    \n",
    "\n",
    "    \"\"\"\n",
    "    y_true, y_preds = [], []\n",
    "    num_folds = 5\n",
    "    num_bins = 5 # pseudo-categorical\n",
    "    \n",
    "    df = pd.concat([x,y], axis=1)\n",
    "    folded_df = create_folds(df, num_folds, num_bins, plot)\n",
    "  \n",
    "    for i in tqdm(range(num_folds)):\n",
    "        curr_train, curr_test = folded_df[df.Fold != i], folded_df[df.Fold == i]\n",
    "        x_train, x_test = curr_train.drop(columns=['target','Fold']), curr_test.drop(columns=['target','Fold'])\n",
    "        y_train, y_test = curr_train['target'], curr_test['target']\n",
    "\n",
    "        x_train_df, x_test_df = feature_encoding(x_train, x_test, vect, text_only)\n",
    "\n",
    "        model.fit(x_train_df, y_train)\n",
    "\n",
    "        y_pred = model.predict(x_test_df)\n",
    "        y_preds.extend(y_pred)\n",
    "        y_true.extend(y_test)\n",
    "\n",
    "    return evaluate(y_true, y_preds, vect, model, text_only, obj_function)"
   ]
  },
  {
   "cell_type": "markdown",
   "metadata": {
    "id": "OamcCxFm1lXN"
   },
   "source": [
    "## Pick Best Text Vectorizer"
   ]
  },
  {
   "cell_type": "code",
   "execution_count": 26,
   "metadata": {
    "executionInfo": {
     "elapsed": 7,
     "status": "ok",
     "timestamp": 1649306454094,
     "user": {
      "displayName": "Sean Lee",
      "userId": "16401441034184938846"
     },
     "user_tz": -480
    },
    "id": "5Hs1DO031JAZ"
   },
   "outputs": [],
   "source": [
    "### initialise df to store model results\n",
    "res_test = pd.DataFrame()\n",
    "\n",
    "def countvectorizer_evaluate(res_test, x, y, model):\n",
    "    count_vect_args = {'default':{},\n",
    "                      'without setting to lowercase and remove stopwords':{'lowercase':False, 'stop_words':'english'},\n",
    "                      'without setting to lowercase':{'lowercase':False},\n",
    "                      }\n",
    "\n",
    "    pbar = tqdm(total=len(count_vect_args))\n",
    "    for k,v in count_vect_args.items():\n",
    "        vect = CountVectorizer(**count_vect_args[k])\n",
    "        results = resample_train_and_evaluate_model(x, y, vect, model)\n",
    "        res_test=res_test.append(results,ignore_index=True)\n",
    "        pbar.update(1)\n",
    "\n",
    "    return res_test\n",
    "\n",
    "def tfidfvectorizer_evaluate(res_test, x, y, model):\n",
    "    tfidf_vect_args = {'default':{},\n",
    "                      'without setting to lowercase and remove stopwords':{'lowercase':False, 'stop_words':'english'},\n",
    "                      'without setting to lowercase':{'lowercase':False},\n",
    "                      }\n",
    "\n",
    "    pbar = tqdm(total=len(tfidf_vect_args))\n",
    "    for k,v in tfidf_vect_args.items():\n",
    "        vect = TfidfVectorizer(**tfidf_vect_args[k])\n",
    "        results = resample_train_and_evaluate_model(x, y, vect, model)\n",
    "        res_test=res_test.append(results,ignore_index=True)\n",
    "        pbar.update(1)\n",
    "\n",
    "    return res_test"
   ]
  },
  {
   "cell_type": "code",
   "execution_count": 28,
   "metadata": {
    "executionInfo": {
     "elapsed": 983894,
     "status": "ok",
     "timestamp": 1649307437982,
     "user": {
      "displayName": "Sean Lee",
      "userId": "16401441034184938846"
     },
     "user_tz": -480
    },
    "id": "_hvW1lzf28kn"
   },
   "outputs": [
    {
     "name": "stderr",
     "output_type": "stream",
     "text": [
      "\n",
      "  0%|                                                                                            | 0/3 [00:00<?, ?it/s]\u001b[A\n",
      " 33%|████████████████████████████                                                        | 1/3 [00:51<01:43, 51.94s/it]\u001b[A\n",
      " 67%|████████████████████████████████████████████████████████                            | 2/3 [02:19<01:13, 73.07s/it]\u001b[A\n",
      "100%|████████████████████████████████████████████████████████████████████████████████████| 3/3 [03:52<00:00, 77.44s/it]\u001b[A\n"
     ]
    }
   ],
   "source": [
    "base_testing_model = tree.DecisionTreeRegressor(max_depth = 50, min_samples_split = 100, random_state=2022)\n",
    "res_test = countvectorizer_evaluate(res_test, X_train, y_train, base_testing_model)"
   ]
  },
  {
   "cell_type": "code",
   "execution_count": 29,
   "metadata": {},
   "outputs": [
    {
     "name": "stderr",
     "output_type": "stream",
     "text": [
      "\n",
      "  0%|                                                                                            | 0/3 [00:00<?, ?it/s]\u001b[A\n",
      " 33%|████████████████████████████                                                        | 1/3 [00:50<01:40, 50.01s/it]\u001b[A\n",
      " 67%|████████████████████████████████████████████████████████                            | 2/3 [02:26<01:17, 77.36s/it]\u001b[A\n",
      "100%|████████████████████████████████████████████████████████████████████████████████████| 3/3 [04:10<00:00, 83.46s/it]\u001b[A\n"
     ]
    }
   ],
   "source": [
    "base_testing_model = tree.DecisionTreeRegressor(max_depth = 50, min_samples_split = 100, random_state=2022)\n",
    "res_test = tfidfvectorizer_evaluate(res_test, X_train, y_train, base_testing_model)"
   ]
  },
  {
   "cell_type": "code",
   "execution_count": 31,
   "metadata": {
    "colab": {
     "base_uri": "https://localhost:8080/",
     "height": 238
    },
    "executionInfo": {
     "elapsed": 19,
     "status": "ok",
     "timestamp": 1649307437982,
     "user": {
      "displayName": "Sean Lee",
      "userId": "16401441034184938846"
     },
     "user_tz": -480
    },
    "id": "SKeQ57UaUxdR",
    "outputId": "cbd5f230-194a-48eb-ef27-4b7c47d3e81f"
   },
   "outputs": [
    {
     "data": {
      "text/html": [
       "<div>\n",
       "<style scoped>\n",
       "    .dataframe tbody tr th:only-of-type {\n",
       "        vertical-align: middle;\n",
       "    }\n",
       "\n",
       "    .dataframe tbody tr th {\n",
       "        vertical-align: top;\n",
       "    }\n",
       "\n",
       "    .dataframe thead th {\n",
       "        text-align: right;\n",
       "    }\n",
       "</style>\n",
       "<table border=\"1\" class=\"dataframe\">\n",
       "  <thead>\n",
       "    <tr style=\"text-align: right;\">\n",
       "      <th></th>\n",
       "      <th>MSE</th>\n",
       "      <th>RMSE</th>\n",
       "      <th>Vect Used</th>\n",
       "      <th>Model Used</th>\n",
       "      <th>TextOnly</th>\n",
       "    </tr>\n",
       "  </thead>\n",
       "  <tbody>\n",
       "    <tr>\n",
       "      <th>0</th>\n",
       "      <td>0.003965</td>\n",
       "      <td>0.062972</td>\n",
       "      <td>CountVectorizer()</td>\n",
       "      <td>DecisionTreeRegressor(max_depth=50, min_sample...</td>\n",
       "      <td>1.0</td>\n",
       "    </tr>\n",
       "    <tr>\n",
       "      <th>1</th>\n",
       "      <td>0.003755</td>\n",
       "      <td>0.061274</td>\n",
       "      <td>CountVectorizer(lowercase=False, stop_words='e...</td>\n",
       "      <td>DecisionTreeRegressor(max_depth=50, min_sample...</td>\n",
       "      <td>1.0</td>\n",
       "    </tr>\n",
       "    <tr>\n",
       "      <th>2</th>\n",
       "      <td>0.003708</td>\n",
       "      <td>0.060890</td>\n",
       "      <td>CountVectorizer(lowercase=False)</td>\n",
       "      <td>DecisionTreeRegressor(max_depth=50, min_sample...</td>\n",
       "      <td>1.0</td>\n",
       "    </tr>\n",
       "    <tr>\n",
       "      <th>3</th>\n",
       "      <td>0.004376</td>\n",
       "      <td>0.066150</td>\n",
       "      <td>TfidfVectorizer()</td>\n",
       "      <td>DecisionTreeRegressor(max_depth=50, min_sample...</td>\n",
       "      <td>1.0</td>\n",
       "    </tr>\n",
       "    <tr>\n",
       "      <th>4</th>\n",
       "      <td>0.003921</td>\n",
       "      <td>0.062616</td>\n",
       "      <td>TfidfVectorizer(lowercase=False, stop_words='e...</td>\n",
       "      <td>DecisionTreeRegressor(max_depth=50, min_sample...</td>\n",
       "      <td>1.0</td>\n",
       "    </tr>\n",
       "    <tr>\n",
       "      <th>5</th>\n",
       "      <td>0.003869</td>\n",
       "      <td>0.062202</td>\n",
       "      <td>TfidfVectorizer(lowercase=False)</td>\n",
       "      <td>DecisionTreeRegressor(max_depth=50, min_sample...</td>\n",
       "      <td>1.0</td>\n",
       "    </tr>\n",
       "  </tbody>\n",
       "</table>\n",
       "</div>"
      ],
      "text/plain": [
       "        MSE      RMSE                                          Vect Used  \\\n",
       "0  0.003965  0.062972                                  CountVectorizer()   \n",
       "1  0.003755  0.061274  CountVectorizer(lowercase=False, stop_words='e...   \n",
       "2  0.003708  0.060890                   CountVectorizer(lowercase=False)   \n",
       "3  0.004376  0.066150                                  TfidfVectorizer()   \n",
       "4  0.003921  0.062616  TfidfVectorizer(lowercase=False, stop_words='e...   \n",
       "5  0.003869  0.062202                   TfidfVectorizer(lowercase=False)   \n",
       "\n",
       "                                          Model Used  TextOnly  \n",
       "0  DecisionTreeRegressor(max_depth=50, min_sample...       1.0  \n",
       "1  DecisionTreeRegressor(max_depth=50, min_sample...       1.0  \n",
       "2  DecisionTreeRegressor(max_depth=50, min_sample...       1.0  \n",
       "3  DecisionTreeRegressor(max_depth=50, min_sample...       1.0  \n",
       "4  DecisionTreeRegressor(max_depth=50, min_sample...       1.0  \n",
       "5  DecisionTreeRegressor(max_depth=50, min_sample...       1.0  "
      ]
     },
     "execution_count": 31,
     "metadata": {},
     "output_type": "execute_result"
    }
   ],
   "source": [
    "res_test"
   ]
  },
  {
   "cell_type": "markdown",
   "metadata": {
    "id": "Jpc9SKiaN1N-"
   },
   "source": [
    "## Build Model"
   ]
  },
  {
   "cell_type": "code",
   "execution_count": 32,
   "metadata": {
    "executionInfo": {
     "elapsed": 7,
     "status": "ok",
     "timestamp": 1649307437983,
     "user": {
      "displayName": "Sean Lee",
      "userId": "16401441034184938846"
     },
     "user_tz": -480
    },
    "id": "etgXpgcQcA6i"
   },
   "outputs": [],
   "source": [
    "vect = CountVectorizer(lowercase=False, stop_words='english')"
   ]
  },
  {
   "cell_type": "markdown",
   "metadata": {
    "id": "6uWJWfh0eyOd"
   },
   "source": [
    "### Base Decision Tree Model"
   ]
  },
  {
   "cell_type": "code",
   "execution_count": 35,
   "metadata": {
    "executionInfo": {
     "elapsed": 102826,
     "status": "ok",
     "timestamp": 1649307540802,
     "user": {
      "displayName": "Sean Lee",
      "userId": "16401441034184938846"
     },
     "user_tz": -480
    },
    "id": "NsOMM-VLfCKa"
   },
   "outputs": [
    {
     "data": {
      "image/png": "[encoded data removed]",
      "text/plain": [
       "<Figure size 720x288 with 5 Axes>"
      ]
     },
     "metadata": {
      "needs_background": "light"
     },
     "output_type": "display_data"
    },
    {
     "name": "stderr",
     "output_type": "stream",
     "text": [
      "\n",
      "  0%|                                                                                            | 0/3 [48:31<?, ?it/s]\u001b[A\n",
      "\n",
      " 20%|████████████████▊                                                                   | 1/5 [00:12<00:48, 12.20s/it]\u001b[A\n",
      " 40%|█████████████████████████████████▌                                                  | 2/5 [00:24<00:36, 12.01s/it]\u001b[A\n",
      " 60%|██████████████████████████████████████████████████▍                                 | 3/5 [00:35<00:23, 11.66s/it]\u001b[A\n",
      " 80%|███████████████████████████████████████████████████████████████████▏                | 4/5 [00:46<00:11, 11.60s/it]\u001b[A\n",
      "100%|████████████████████████████████████████████████████████████████████████████████████| 5/5 [00:58<00:00, 11.68s/it]\u001b[A\n"
     ]
    }
   ],
   "source": [
    "base_testing_model = tree.DecisionTreeRegressor(max_depth = 50, min_samples_split = 100, random_state=2022)\n",
    "results_tree = resample_train_and_evaluate_model(X_train, y_train, vect, base_testing_model, text_only=False, plot=True)\n",
    "res_test=res_test.append(results_tree,ignore_index=True)"
   ]
  },
  {
   "cell_type": "code",
   "execution_count": 37,
   "metadata": {
    "colab": {
     "base_uri": "https://localhost:8080/",
     "height": 269
    },
    "executionInfo": {
     "elapsed": 30,
     "status": "ok",
     "timestamp": 1649307540803,
     "user": {
      "displayName": "Sean Lee",
      "userId": "16401441034184938846"
     },
     "user_tz": -480
    },
    "id": "VkFY1hOFe7jq",
    "outputId": "e556fe99-da0a-40e1-aad3-676d18634b9c"
   },
   "outputs": [
    {
     "data": {
      "text/html": [
       "<div>\n",
       "<style scoped>\n",
       "    .dataframe tbody tr th:only-of-type {\n",
       "        vertical-align: middle;\n",
       "    }\n",
       "\n",
       "    .dataframe tbody tr th {\n",
       "        vertical-align: top;\n",
       "    }\n",
       "\n",
       "    .dataframe thead th {\n",
       "        text-align: right;\n",
       "    }\n",
       "</style>\n",
       "<table border=\"1\" class=\"dataframe\">\n",
       "  <thead>\n",
       "    <tr style=\"text-align: right;\">\n",
       "      <th></th>\n",
       "      <th>MSE</th>\n",
       "      <th>RMSE</th>\n",
       "      <th>Vect Used</th>\n",
       "      <th>Model Used</th>\n",
       "      <th>TextOnly</th>\n",
       "    </tr>\n",
       "  </thead>\n",
       "  <tbody>\n",
       "    <tr>\n",
       "      <th>2</th>\n",
       "      <td>0.003708</td>\n",
       "      <td>0.060890</td>\n",
       "      <td>CountVectorizer(lowercase=False)</td>\n",
       "      <td>DecisionTreeRegressor(max_depth=50, min_sample...</td>\n",
       "      <td>1.0</td>\n",
       "    </tr>\n",
       "    <tr>\n",
       "      <th>1</th>\n",
       "      <td>0.003755</td>\n",
       "      <td>0.061274</td>\n",
       "      <td>CountVectorizer(lowercase=False, stop_words='e...</td>\n",
       "      <td>DecisionTreeRegressor(max_depth=50, min_sample...</td>\n",
       "      <td>1.0</td>\n",
       "    </tr>\n",
       "    <tr>\n",
       "      <th>6</th>\n",
       "      <td>0.003809</td>\n",
       "      <td>0.061719</td>\n",
       "      <td>CountVectorizer(lowercase=False, stop_words='e...</td>\n",
       "      <td>DecisionTreeRegressor(max_depth=50, min_sample...</td>\n",
       "      <td>0.0</td>\n",
       "    </tr>\n",
       "    <tr>\n",
       "      <th>5</th>\n",
       "      <td>0.003869</td>\n",
       "      <td>0.062202</td>\n",
       "      <td>TfidfVectorizer(lowercase=False)</td>\n",
       "      <td>DecisionTreeRegressor(max_depth=50, min_sample...</td>\n",
       "      <td>1.0</td>\n",
       "    </tr>\n",
       "    <tr>\n",
       "      <th>4</th>\n",
       "      <td>0.003921</td>\n",
       "      <td>0.062616</td>\n",
       "      <td>TfidfVectorizer(lowercase=False, stop_words='e...</td>\n",
       "      <td>DecisionTreeRegressor(max_depth=50, min_sample...</td>\n",
       "      <td>1.0</td>\n",
       "    </tr>\n",
       "    <tr>\n",
       "      <th>0</th>\n",
       "      <td>0.003965</td>\n",
       "      <td>0.062972</td>\n",
       "      <td>CountVectorizer()</td>\n",
       "      <td>DecisionTreeRegressor(max_depth=50, min_sample...</td>\n",
       "      <td>1.0</td>\n",
       "    </tr>\n",
       "    <tr>\n",
       "      <th>3</th>\n",
       "      <td>0.004376</td>\n",
       "      <td>0.066150</td>\n",
       "      <td>TfidfVectorizer()</td>\n",
       "      <td>DecisionTreeRegressor(max_depth=50, min_sample...</td>\n",
       "      <td>1.0</td>\n",
       "    </tr>\n",
       "  </tbody>\n",
       "</table>\n",
       "</div>"
      ],
      "text/plain": [
       "        MSE      RMSE                                          Vect Used  \\\n",
       "2  0.003708  0.060890                   CountVectorizer(lowercase=False)   \n",
       "1  0.003755  0.061274  CountVectorizer(lowercase=False, stop_words='e...   \n",
       "6  0.003809  0.061719  CountVectorizer(lowercase=False, stop_words='e...   \n",
       "5  0.003869  0.062202                   TfidfVectorizer(lowercase=False)   \n",
       "4  0.003921  0.062616  TfidfVectorizer(lowercase=False, stop_words='e...   \n",
       "0  0.003965  0.062972                                  CountVectorizer()   \n",
       "3  0.004376  0.066150                                  TfidfVectorizer()   \n",
       "\n",
       "                                          Model Used  TextOnly  \n",
       "2  DecisionTreeRegressor(max_depth=50, min_sample...       1.0  \n",
       "1  DecisionTreeRegressor(max_depth=50, min_sample...       1.0  \n",
       "6  DecisionTreeRegressor(max_depth=50, min_sample...       0.0  \n",
       "5  DecisionTreeRegressor(max_depth=50, min_sample...       1.0  \n",
       "4  DecisionTreeRegressor(max_depth=50, min_sample...       1.0  \n",
       "0  DecisionTreeRegressor(max_depth=50, min_sample...       1.0  \n",
       "3  DecisionTreeRegressor(max_depth=50, min_sample...       1.0  "
      ]
     },
     "execution_count": 37,
     "metadata": {},
     "output_type": "execute_result"
    }
   ],
   "source": [
    "res_test.sort_values(by = \"RMSE\")"
   ]
  },
  {
   "cell_type": "markdown",
   "metadata": {
    "id": "mgsnxj8ZTqTm"
   },
   "source": [
    "### Decision Tree with Bayes Optimisation Hyperparameter Tuning"
   ]
  },
  {
   "cell_type": "code",
   "execution_count": 42,
   "metadata": {
    "executionInfo": {
     "elapsed": 441,
     "status": "ok",
     "timestamp": 1649307971704,
     "user": {
      "displayName": "Sean Lee",
      "userId": "16401441034184938846"
     },
     "user_tz": -480
    },
    "id": "EDdJAEYGRQn5"
   },
   "outputs": [],
   "source": [
    "### helper functions\n",
    "if not os.path.exists('/Tuning'): os.mkdir('/Tuning')\n",
    "    \n",
    "def save_file(path, data):\n",
    "    \"\"\"\n",
    "\n",
    "    This function saves the model to a .pkl file.\n",
    "\n",
    "    \"\"\"\n",
    "\n",
    "    output = open(path, 'wb')\n",
    "    pickle.dump(data, output)\n",
    "    output.close()\n",
    "\n",
    "def load_file(path):\n",
    "    \"\"\"\n",
    "\n",
    "    This function loads the model from a .pkl file.\n",
    "    The main reason for doing so is that retraining is not required everytime the code is ran.\n",
    "\n",
    "    \"\"\"\n",
    "    pkl_file = open(path, 'rb')\n",
    "    data = pickle.load(pkl_file)\n",
    "    pkl_file.close()\n",
    "    return data\n",
    "\n",
    "def hyperopt(param_space, num_eval, vect, model):\n",
    "    \"\"\"\n",
    "    Main hyperparameter tuning function\n",
    "\n",
    "    Parameters:\n",
    "    ---------\n",
    "    (1) param_space: dictionary of parameter values to optimise\n",
    "    (2) num_eval: number of iterations to optimise over\n",
    "    (3) vect: vector used for text column\n",
    "    (4) model: regression model used to fit data\n",
    "\n",
    "    Returns:\n",
    "    -------\n",
    "    (1) trials: dictionary containing optimisation history (parameters, etc)\n",
    "    (2) best_param_values: dictionary containing the parameters of best model (lowest RMSE)\n",
    "    \n",
    "    \"\"\"\n",
    "\n",
    "    def objective_function(params):\n",
    "        regressor = model(**params)\n",
    "        score = resample_train_and_evaluate_model(X_train, y_train, vect, regressor, text_only=False, obj_function=True) # loss function is RMSE\n",
    "\n",
    "        return {'loss': score, 'status': STATUS_OK}\n",
    "    \n",
    "    trials = Trials()\n",
    "    best_param = fmin(objective_function, param_space, algo=tpe.suggest, max_evals=num_eval, \n",
    "                      trials=trials, rstate= np.random.RandomState(2022))\n",
    "    loss = [x['result']['loss'] for x in trials.trials] \n",
    "    best_param_values = best_param\n",
    "    print(loss)\n",
    "    return trials, best_param_values"
   ]
  },
  {
   "cell_type": "code",
   "execution_count": 43,
   "metadata": {
    "executionInfo": {
     "elapsed": 4,
     "status": "ok",
     "timestamp": 1649307972332,
     "user": {
      "displayName": "Sean Lee",
      "userId": "16401441034184938846"
     },
     "user_tz": -480
    },
    "id": "I-gwjgOrP7d-"
   },
   "outputs": [],
   "source": [
    "num_eval = 100 # can increase more for more iterations\n",
    "\n",
    "### defining parameter space\n",
    "DT_param_hyperopt = {\n",
    "    'splitter': hp.choice('splitter', ['best','random']),\n",
    "    'max_depth': scope.int(hp.quniform('max_depth', 30, 150, 20)),\n",
    "    'min_samples_split' : scope.int(hp.quniform('min_samples_split', 10, 150, 20)),\n",
    "    'min_samples_leaf' : scope.int(hp.quniform('min_samples_leaf', 1, 10, 1)),\n",
    "    'min_weight_fraction_leaf' : hp.uniform('min_weight_fraction_leaf', 0.0, 0.5),\n",
    "    'random_state':2022\n",
    "}"
   ]
  },
  {
   "cell_type": "code",
   "execution_count": 58,
   "metadata": {
    "colab": {
     "base_uri": "https://localhost:8080/"
    },
    "executionInfo": {
     "elapsed": 5720381,
     "status": "ok",
     "timestamp": 1649313692709,
     "user": {
      "displayName": "Sean Lee",
      "userId": "16401441034184938846"
     },
     "user_tz": -480
    },
    "id": "l2xtK0SXRpBF",
    "outputId": "8cb610ef-9eed-4af3-bc2b-f0006405de63"
   },
   "outputs": [],
   "source": [
    "load = True # toggle to set to False if want to re-optimise\n",
    "if load == False:\n",
    "    DT_hyperopt = hyperopt(DT_param_hyperopt, num_eval, vect, tree.DecisionTreeRegressor)\n",
    "    save_file('Tuning/DT_hyperopt.pkl', DT_hyperopt)\n",
    "else:\n",
    "    try:\n",
    "        DT_hyperopt = load_file('Tuning/DT_hyperopt.pkl')\n",
    "    except Exception as e:\n",
    "        print(e)"
   ]
  },
  {
   "cell_type": "code",
   "execution_count": 59,
   "metadata": {
    "executionInfo": {
     "elapsed": 18,
     "status": "ok",
     "timestamp": 1649313692710,
     "user": {
      "displayName": "Sean Lee",
      "userId": "16401441034184938846"
     },
     "user_tz": -480
    },
    "id": "Az2vHqzUSPdu"
   },
   "outputs": [],
   "source": [
    "trials = DT_hyperopt[0].trials\n",
    "\n",
    "record = []\n",
    "losses = []\n",
    "for trial in trials:\n",
    "    loss = trial[\"result\"][\"loss\"]\n",
    "    values = trial[\"misc\"]['vals']\n",
    "    losses.append(loss)\n",
    "    record.append(values)\n",
    "    \n",
    "DTTrialsData = pd.DataFrame(record)\n",
    "DTTrialsData = DTTrialsData.applymap(lambda x: x[0])\n",
    "\n",
    "DTTrialsData.insert(0, 'loss', losses)\n",
    "DTTrialsData.sort_values(by='loss', inplace=True)"
   ]
  },
  {
   "cell_type": "code",
   "execution_count": 60,
   "metadata": {
    "colab": {
     "base_uri": "https://localhost:8080/",
     "height": 206
    },
    "executionInfo": {
     "elapsed": 7,
     "status": "ok",
     "timestamp": 1649313692710,
     "user": {
      "displayName": "Sean Lee",
      "userId": "16401441034184938846"
     },
     "user_tz": -480
    },
    "id": "6hSw7dkQSQht",
    "outputId": "26f82e04-16b3-461f-fa35-f5c1f22fdd12"
   },
   "outputs": [
    {
     "data": {
      "text/html": [
       "<div>\n",
       "<style scoped>\n",
       "    .dataframe tbody tr th:only-of-type {\n",
       "        vertical-align: middle;\n",
       "    }\n",
       "\n",
       "    .dataframe tbody tr th {\n",
       "        vertical-align: top;\n",
       "    }\n",
       "\n",
       "    .dataframe thead th {\n",
       "        text-align: right;\n",
       "    }\n",
       "</style>\n",
       "<table border=\"1\" class=\"dataframe\">\n",
       "  <thead>\n",
       "    <tr style=\"text-align: right;\">\n",
       "      <th></th>\n",
       "      <th>loss</th>\n",
       "      <th>max_depth</th>\n",
       "      <th>min_samples_leaf</th>\n",
       "      <th>min_samples_split</th>\n",
       "      <th>min_weight_fraction_leaf</th>\n",
       "      <th>splitter</th>\n",
       "    </tr>\n",
       "  </thead>\n",
       "  <tbody>\n",
       "    <tr>\n",
       "      <th>75</th>\n",
       "      <td>0.063877</td>\n",
       "      <td>100.0</td>\n",
       "      <td>4.0</td>\n",
       "      <td>120.0</td>\n",
       "      <td>0.000398</td>\n",
       "      <td>0</td>\n",
       "    </tr>\n",
       "    <tr>\n",
       "      <th>49</th>\n",
       "      <td>0.064333</td>\n",
       "      <td>60.0</td>\n",
       "      <td>4.0</td>\n",
       "      <td>100.0</td>\n",
       "      <td>0.001088</td>\n",
       "      <td>0</td>\n",
       "    </tr>\n",
       "    <tr>\n",
       "      <th>20</th>\n",
       "      <td>0.064537</td>\n",
       "      <td>80.0</td>\n",
       "      <td>6.0</td>\n",
       "      <td>60.0</td>\n",
       "      <td>0.001068</td>\n",
       "      <td>0</td>\n",
       "    </tr>\n",
       "    <tr>\n",
       "      <th>89</th>\n",
       "      <td>0.064616</td>\n",
       "      <td>80.0</td>\n",
       "      <td>4.0</td>\n",
       "      <td>60.0</td>\n",
       "      <td>0.000007</td>\n",
       "      <td>1</td>\n",
       "    </tr>\n",
       "    <tr>\n",
       "      <th>37</th>\n",
       "      <td>0.065059</td>\n",
       "      <td>80.0</td>\n",
       "      <td>9.0</td>\n",
       "      <td>80.0</td>\n",
       "      <td>0.001520</td>\n",
       "      <td>0</td>\n",
       "    </tr>\n",
       "  </tbody>\n",
       "</table>\n",
       "</div>"
      ],
      "text/plain": [
       "        loss  max_depth  min_samples_leaf  min_samples_split  \\\n",
       "75  0.063877      100.0               4.0              120.0   \n",
       "49  0.064333       60.0               4.0              100.0   \n",
       "20  0.064537       80.0               6.0               60.0   \n",
       "89  0.064616       80.0               4.0               60.0   \n",
       "37  0.065059       80.0               9.0               80.0   \n",
       "\n",
       "    min_weight_fraction_leaf  splitter  \n",
       "75                  0.000398         0  \n",
       "49                  0.001088         0  \n",
       "20                  0.001068         0  \n",
       "89                  0.000007         1  \n",
       "37                  0.001520         0  "
      ]
     },
     "execution_count": 60,
     "metadata": {},
     "output_type": "execute_result"
    }
   ],
   "source": [
    "DTTrialsData.head()"
   ]
  },
  {
   "cell_type": "code",
   "execution_count": 61,
   "metadata": {
    "executionInfo": {
     "elapsed": 5,
     "status": "ok",
     "timestamp": 1649313692710,
     "user": {
      "displayName": "Sean Lee",
      "userId": "16401441034184938846"
     },
     "user_tz": -480
    },
    "id": "oOqkUhuBSSUe"
   },
   "outputs": [],
   "source": [
    "dt_chosen = DT_hyperopt[1]\n",
    "\n",
    "dt_model   =   tree.DecisionTreeRegressor(splitter=['best','random'][dt_chosen['splitter']], \n",
    "                                          max_depth=int(dt_chosen['max_depth']),\n",
    "                                          min_samples_split = int(dt_chosen['min_samples_split']),\n",
    "                                          min_samples_leaf = int(dt_chosen['min_samples_leaf']),\n",
    "                                          min_weight_fraction_leaf = dt_chosen['min_weight_fraction_leaf'],\n",
    "                                          random_state=2022)"
   ]
  },
  {
   "cell_type": "code",
   "execution_count": 62,
   "metadata": {
    "executionInfo": {
     "elapsed": 145079,
     "status": "ok",
     "timestamp": 1649313837784,
     "user": {
      "displayName": "Sean Lee",
      "userId": "16401441034184938846"
     },
     "user_tz": -480
    },
    "id": "_P617CoLScv0"
   },
   "outputs": [
    {
     "name": "stderr",
     "output_type": "stream",
     "text": [
      "100%|████████████████████████████████████████████████████████████████████████████████████| 5/5 [01:31<00:00, 18.35s/it]\n"
     ]
    }
   ],
   "source": [
    "res_test = res_test.append(resample_train_and_evaluate_model(X, y, vect, dt_model, text_only=False),ignore_index=True)"
   ]
  },
  {
   "cell_type": "code",
   "execution_count": 63,
   "metadata": {
    "colab": {
     "base_uri": "https://localhost:8080/",
     "height": 300
    },
    "executionInfo": {
     "elapsed": 24,
     "status": "ok",
     "timestamp": 1649313837784,
     "user": {
      "displayName": "Sean Lee",
      "userId": "16401441034184938846"
     },
     "user_tz": -480
    },
    "id": "u_HieO3CS94Z",
    "outputId": "be763809-b583-4c1e-9665-83013fc7af19"
   },
   "outputs": [
    {
     "data": {
      "text/html": [
       "<div>\n",
       "<style scoped>\n",
       "    .dataframe tbody tr th:only-of-type {\n",
       "        vertical-align: middle;\n",
       "    }\n",
       "\n",
       "    .dataframe tbody tr th {\n",
       "        vertical-align: top;\n",
       "    }\n",
       "\n",
       "    .dataframe thead th {\n",
       "        text-align: right;\n",
       "    }\n",
       "</style>\n",
       "<table border=\"1\" class=\"dataframe\">\n",
       "  <thead>\n",
       "    <tr style=\"text-align: right;\">\n",
       "      <th></th>\n",
       "      <th>MSE</th>\n",
       "      <th>RMSE</th>\n",
       "      <th>Vect Used</th>\n",
       "      <th>Model Used</th>\n",
       "      <th>TextOnly</th>\n",
       "    </tr>\n",
       "  </thead>\n",
       "  <tbody>\n",
       "    <tr>\n",
       "      <th>7</th>\n",
       "      <td>0.003654</td>\n",
       "      <td>0.060446</td>\n",
       "      <td>CountVectorizer(lowercase=False, stop_words='e...</td>\n",
       "      <td>DecisionTreeRegressor(max_depth=100, min_sampl...</td>\n",
       "      <td>0.0</td>\n",
       "    </tr>\n",
       "    <tr>\n",
       "      <th>2</th>\n",
       "      <td>0.003708</td>\n",
       "      <td>0.060890</td>\n",
       "      <td>CountVectorizer(lowercase=False)</td>\n",
       "      <td>DecisionTreeRegressor(max_depth=50, min_sample...</td>\n",
       "      <td>1.0</td>\n",
       "    </tr>\n",
       "    <tr>\n",
       "      <th>1</th>\n",
       "      <td>0.003755</td>\n",
       "      <td>0.061274</td>\n",
       "      <td>CountVectorizer(lowercase=False, stop_words='e...</td>\n",
       "      <td>DecisionTreeRegressor(max_depth=50, min_sample...</td>\n",
       "      <td>1.0</td>\n",
       "    </tr>\n",
       "    <tr>\n",
       "      <th>6</th>\n",
       "      <td>0.003809</td>\n",
       "      <td>0.061719</td>\n",
       "      <td>CountVectorizer(lowercase=False, stop_words='e...</td>\n",
       "      <td>DecisionTreeRegressor(max_depth=50, min_sample...</td>\n",
       "      <td>0.0</td>\n",
       "    </tr>\n",
       "    <tr>\n",
       "      <th>5</th>\n",
       "      <td>0.003869</td>\n",
       "      <td>0.062202</td>\n",
       "      <td>TfidfVectorizer(lowercase=False)</td>\n",
       "      <td>DecisionTreeRegressor(max_depth=50, min_sample...</td>\n",
       "      <td>1.0</td>\n",
       "    </tr>\n",
       "    <tr>\n",
       "      <th>4</th>\n",
       "      <td>0.003921</td>\n",
       "      <td>0.062616</td>\n",
       "      <td>TfidfVectorizer(lowercase=False, stop_words='e...</td>\n",
       "      <td>DecisionTreeRegressor(max_depth=50, min_sample...</td>\n",
       "      <td>1.0</td>\n",
       "    </tr>\n",
       "    <tr>\n",
       "      <th>0</th>\n",
       "      <td>0.003965</td>\n",
       "      <td>0.062972</td>\n",
       "      <td>CountVectorizer()</td>\n",
       "      <td>DecisionTreeRegressor(max_depth=50, min_sample...</td>\n",
       "      <td>1.0</td>\n",
       "    </tr>\n",
       "    <tr>\n",
       "      <th>3</th>\n",
       "      <td>0.004376</td>\n",
       "      <td>0.066150</td>\n",
       "      <td>TfidfVectorizer()</td>\n",
       "      <td>DecisionTreeRegressor(max_depth=50, min_sample...</td>\n",
       "      <td>1.0</td>\n",
       "    </tr>\n",
       "  </tbody>\n",
       "</table>\n",
       "</div>"
      ],
      "text/plain": [
       "        MSE      RMSE                                          Vect Used  \\\n",
       "7  0.003654  0.060446  CountVectorizer(lowercase=False, stop_words='e...   \n",
       "2  0.003708  0.060890                   CountVectorizer(lowercase=False)   \n",
       "1  0.003755  0.061274  CountVectorizer(lowercase=False, stop_words='e...   \n",
       "6  0.003809  0.061719  CountVectorizer(lowercase=False, stop_words='e...   \n",
       "5  0.003869  0.062202                   TfidfVectorizer(lowercase=False)   \n",
       "4  0.003921  0.062616  TfidfVectorizer(lowercase=False, stop_words='e...   \n",
       "0  0.003965  0.062972                                  CountVectorizer()   \n",
       "3  0.004376  0.066150                                  TfidfVectorizer()   \n",
       "\n",
       "                                          Model Used  TextOnly  \n",
       "7  DecisionTreeRegressor(max_depth=100, min_sampl...       0.0  \n",
       "2  DecisionTreeRegressor(max_depth=50, min_sample...       1.0  \n",
       "1  DecisionTreeRegressor(max_depth=50, min_sample...       1.0  \n",
       "6  DecisionTreeRegressor(max_depth=50, min_sample...       0.0  \n",
       "5  DecisionTreeRegressor(max_depth=50, min_sample...       1.0  \n",
       "4  DecisionTreeRegressor(max_depth=50, min_sample...       1.0  \n",
       "0  DecisionTreeRegressor(max_depth=50, min_sample...       1.0  \n",
       "3  DecisionTreeRegressor(max_depth=50, min_sample...       1.0  "
      ]
     },
     "execution_count": 63,
     "metadata": {},
     "output_type": "execute_result"
    }
   ],
   "source": [
    "sorted_res = res_test.sort_values(by = 'RMSE')\n",
    "sorted_res # lower RMSE after tuning"
   ]
  },
  {
   "cell_type": "markdown",
   "metadata": {
    "id": "6TuK97zqTuOk"
   },
   "source": [
    "### Testing Model on Out-of-Sample data"
   ]
  },
  {
   "cell_type": "code",
   "execution_count": 64,
   "metadata": {
    "executionInfo": {
     "elapsed": 21417,
     "status": "ok",
     "timestamp": 1649317090673,
     "user": {
      "displayName": "Sean Lee",
      "userId": "16401441034184938846"
     },
     "user_tz": -480
    },
    "id": "R8phTz5_7JFs"
   },
   "outputs": [],
   "source": [
    "def evaluate_model(x_train, y_train, x_test, y_test, vect, model, text_only=False, obj_function=False):\n",
    "    y_true, y_preds = [], []\n",
    "    x_train_df, x_test_df = feature_encoding(x_train, x_test, vect, text_only)\n",
    "    model.fit(x_train_df, y_train)\n",
    "    y_pred = model.predict(x_test_df)\n",
    "    y_preds.extend(y_pred)\n",
    "    y_true.extend(y_test)\n",
    "\n",
    "    return evaluate(y_true, y_preds, vect, model, text_only, obj_function)\n",
    "\n",
    "results_test = evaluate_model(X_train, y_train, X_test, y_test, vect, dt_model, text_only=False, obj_function=False)\n",
    "res_test=res_test.append(results_test,ignore_index=True)"
   ]
  },
  {
   "cell_type": "code",
   "execution_count": 65,
   "metadata": {
    "colab": {
     "base_uri": "https://localhost:8080/"
    },
    "executionInfo": {
     "elapsed": 496,
     "status": "ok",
     "timestamp": 1649320042309,
     "user": {
      "displayName": "Sean Lee",
      "userId": "16401441034184938846"
     },
     "user_tz": -480
    },
    "id": "xInog0j8EI_7",
    "outputId": "7b36ca58-2a60-4a9f-c927-dd23d11308d2"
   },
   "outputs": [
    {
     "data": {
      "text/plain": [
       "MSE                                                    0.003817\n",
       "RMSE                                                    0.06178\n",
       "Vect Used     CountVectorizer(lowercase=False, stop_words='e...\n",
       "Model Used    DecisionTreeRegressor(max_depth=100, min_sampl...\n",
       "TextOnly                                                    0.0\n",
       "Name: 8, dtype: object"
      ]
     },
     "execution_count": 65,
     "metadata": {},
     "output_type": "execute_result"
    }
   ],
   "source": [
    "res_test.iloc[len(res_test)-1] ## show latest result"
   ]
  },
  {
   "cell_type": "code",
   "execution_count": 66,
   "metadata": {
    "executionInfo": {
     "elapsed": 468,
     "status": "ok",
     "timestamp": 1649317712755,
     "user": {
      "displayName": "Sean Lee",
      "userId": "16401441034184938846"
     },
     "user_tz": -480
    },
    "id": "NVxDKctb9fTU"
   },
   "outputs": [],
   "source": [
    "test_model = res_test.iloc[len(res_test)-1]['Model Used']"
   ]
  },
  {
   "cell_type": "code",
   "execution_count": 67,
   "metadata": {
    "executionInfo": {
     "elapsed": 11206,
     "status": "ok",
     "timestamp": 1649318430836,
     "user": {
      "displayName": "Sean Lee",
      "userId": "16401441034184938846"
     },
     "user_tz": -480
    },
    "id": "ZZAP70jA_x2l"
   },
   "outputs": [],
   "source": [
    "feature_impt = test_model.feature_importances_\n",
    "x_train_df, x_test_df = feature_encoding(X_train, X_test, vect, False)\n",
    "feature_names = x_train_df.columns\n",
    "df = np.vstack((feature_impt, feature_names))\n",
    "\n",
    "sorted_df = pd.DataFrame(df.T, columns=['Importance','Feature'])\n",
    "sorted_df.Importance = sorted_df.Importance.astype(float)\n",
    "sorted_df = sorted_df.sort_values(by = 'Importance', ascending=False)"
   ]
  },
  {
   "cell_type": "code",
   "execution_count": 68,
   "metadata": {
    "colab": {
     "base_uri": "https://localhost:8080/",
     "height": 1000
    },
    "executionInfo": {
     "elapsed": 618,
     "status": "ok",
     "timestamp": 1649318746440,
     "user": {
      "displayName": "Sean Lee",
      "userId": "16401441034184938846"
     },
     "user_tz": -480
    },
    "id": "D_GbFcRuDraA",
    "outputId": "989ecc40-b32f-40e1-9f7c-5fd3787584a9"
   },
   "outputs": [
    {
     "data": {
      "text/html": [
       "<div>\n",
       "<style scoped>\n",
       "    .dataframe tbody tr th:only-of-type {\n",
       "        vertical-align: middle;\n",
       "    }\n",
       "\n",
       "    .dataframe tbody tr th {\n",
       "        vertical-align: top;\n",
       "    }\n",
       "\n",
       "    .dataframe thead th {\n",
       "        text-align: right;\n",
       "    }\n",
       "</style>\n",
       "<table border=\"1\" class=\"dataframe\">\n",
       "  <thead>\n",
       "    <tr style=\"text-align: right;\">\n",
       "      <th></th>\n",
       "      <th>Importance</th>\n",
       "      <th>Feature</th>\n",
       "    </tr>\n",
       "  </thead>\n",
       "  <tbody>\n",
       "    <tr>\n",
       "      <th>595</th>\n",
       "      <td>0.120167</td>\n",
       "      <td>BITCOIN</td>\n",
       "    </tr>\n",
       "    <tr>\n",
       "      <th>8877</th>\n",
       "      <td>0.065192</td>\n",
       "      <td>NumWords</td>\n",
       "    </tr>\n",
       "    <tr>\n",
       "      <th>7979</th>\n",
       "      <td>0.057049</td>\n",
       "      <td>XRP</td>\n",
       "    </tr>\n",
       "    <tr>\n",
       "      <th>7249</th>\n",
       "      <td>0.050069</td>\n",
       "      <td>Technical</td>\n",
       "    </tr>\n",
       "    <tr>\n",
       "      <th>8875</th>\n",
       "      <td>0.042557</td>\n",
       "      <td>ExclamationCount</td>\n",
       "    </tr>\n",
       "    <tr>\n",
       "      <th>133</th>\n",
       "      <td>0.033248</td>\n",
       "      <td>ANALYSIS</td>\n",
       "    </tr>\n",
       "    <tr>\n",
       "      <th>858</th>\n",
       "      <td>0.028104</td>\n",
       "      <td>Bitcoin</td>\n",
       "    </tr>\n",
       "    <tr>\n",
       "      <th>42</th>\n",
       "      <td>0.024360</td>\n",
       "      <td>ADA</td>\n",
       "    </tr>\n",
       "    <tr>\n",
       "      <th>1451</th>\n",
       "      <td>0.020554</td>\n",
       "      <td>Chart</td>\n",
       "    </tr>\n",
       "    <tr>\n",
       "      <th>1310</th>\n",
       "      <td>0.016353</td>\n",
       "      <td>CRYPTO</td>\n",
       "    </tr>\n",
       "    <tr>\n",
       "      <th>8116</th>\n",
       "      <td>0.016009</td>\n",
       "      <td>bitcoin</td>\n",
       "    </tr>\n",
       "    <tr>\n",
       "      <th>6244</th>\n",
       "      <td>0.014054</td>\n",
       "      <td>SHIBA</td>\n",
       "    </tr>\n",
       "    <tr>\n",
       "      <th>3636</th>\n",
       "      <td>0.013787</td>\n",
       "      <td>IS</td>\n",
       "    </tr>\n",
       "    <tr>\n",
       "      <th>8865</th>\n",
       "      <td>0.013698</td>\n",
       "      <td>-33.891 to 4298.1 seconds</td>\n",
       "    </tr>\n",
       "    <tr>\n",
       "      <th>6352</th>\n",
       "      <td>0.013416</td>\n",
       "      <td>SOL</td>\n",
       "    </tr>\n",
       "    <tr>\n",
       "      <th>8876</th>\n",
       "      <td>0.010859</td>\n",
       "      <td>QuestionCount</td>\n",
       "    </tr>\n",
       "    <tr>\n",
       "      <th>8844</th>\n",
       "      <td>0.010627</td>\n",
       "      <td>emoji stop sign</td>\n",
       "    </tr>\n",
       "    <tr>\n",
       "      <th>8870</th>\n",
       "      <td>0.010053</td>\n",
       "      <td>8587.2 to 12876.3 seconds</td>\n",
       "    </tr>\n",
       "    <tr>\n",
       "      <th>1377</th>\n",
       "      <td>0.009791</td>\n",
       "      <td>Cardano</td>\n",
       "    </tr>\n",
       "    <tr>\n",
       "      <th>2296</th>\n",
       "      <td>0.009701</td>\n",
       "      <td>ETHEREUM</td>\n",
       "    </tr>\n",
       "    <tr>\n",
       "      <th>7102</th>\n",
       "      <td>0.009493</td>\n",
       "      <td>TODAY</td>\n",
       "    </tr>\n",
       "    <tr>\n",
       "      <th>111</th>\n",
       "      <td>0.009487</td>\n",
       "      <td>ALTCOINS</td>\n",
       "    </tr>\n",
       "    <tr>\n",
       "      <th>4605</th>\n",
       "      <td>0.009030</td>\n",
       "      <td>Michael</td>\n",
       "    </tr>\n",
       "    <tr>\n",
       "      <th>5890</th>\n",
       "      <td>0.008387</td>\n",
       "      <td>Raoul</td>\n",
       "    </tr>\n",
       "    <tr>\n",
       "      <th>1886</th>\n",
       "      <td>0.008170</td>\n",
       "      <td>DOGECOIN</td>\n",
       "    </tr>\n",
       "    <tr>\n",
       "      <th>1696</th>\n",
       "      <td>0.008122</td>\n",
       "      <td>Crypto</td>\n",
       "    </tr>\n",
       "    <tr>\n",
       "      <th>3210</th>\n",
       "      <td>0.007832</td>\n",
       "      <td>HBAR</td>\n",
       "    </tr>\n",
       "    <tr>\n",
       "      <th>4749</th>\n",
       "      <td>0.007799</td>\n",
       "      <td>NEW</td>\n",
       "    </tr>\n",
       "    <tr>\n",
       "      <th>6649</th>\n",
       "      <td>0.007160</td>\n",
       "      <td>Sentiment</td>\n",
       "    </tr>\n",
       "    <tr>\n",
       "      <th>8410</th>\n",
       "      <td>0.006376</td>\n",
       "      <td>market</td>\n",
       "    </tr>\n",
       "    <tr>\n",
       "      <th>581</th>\n",
       "      <td>0.006082</td>\n",
       "      <td>BIGGEST</td>\n",
       "    </tr>\n",
       "    <tr>\n",
       "      <th>8483</th>\n",
       "      <td>0.005951</td>\n",
       "      <td>price</td>\n",
       "    </tr>\n",
       "    <tr>\n",
       "      <th>4038</th>\n",
       "      <td>0.005938</td>\n",
       "      <td>LIVE</td>\n",
       "    </tr>\n",
       "    <tr>\n",
       "      <th>4757</th>\n",
       "      <td>0.005872</td>\n",
       "      <td>NFT</td>\n",
       "    </tr>\n",
       "    <tr>\n",
       "      <th>2470</th>\n",
       "      <td>0.005737</td>\n",
       "      <td>Ethereum</td>\n",
       "    </tr>\n",
       "    <tr>\n",
       "      <th>5523</th>\n",
       "      <td>0.005667</td>\n",
       "      <td>Price</td>\n",
       "    </tr>\n",
       "    <tr>\n",
       "      <th>7075</th>\n",
       "      <td>0.005611</td>\n",
       "      <td>THIS</td>\n",
       "    </tr>\n",
       "    <tr>\n",
       "      <th>1005</th>\n",
       "      <td>0.005233</td>\n",
       "      <td>Buyers</td>\n",
       "    </tr>\n",
       "    <tr>\n",
       "      <th>1819</th>\n",
       "      <td>0.004935</td>\n",
       "      <td>DEX</td>\n",
       "    </tr>\n",
       "    <tr>\n",
       "      <th>5476</th>\n",
       "      <td>0.004755</td>\n",
       "      <td>Portfolio</td>\n",
       "    </tr>\n",
       "    <tr>\n",
       "      <th>7284</th>\n",
       "      <td>0.004656</td>\n",
       "      <td>That</td>\n",
       "    </tr>\n",
       "    <tr>\n",
       "      <th>823</th>\n",
       "      <td>0.004631</td>\n",
       "      <td>Best</td>\n",
       "    </tr>\n",
       "    <tr>\n",
       "      <th>4784</th>\n",
       "      <td>0.004501</td>\n",
       "      <td>NOVEMBER</td>\n",
       "    </tr>\n",
       "    <tr>\n",
       "      <th>4708</th>\n",
       "      <td>0.004459</td>\n",
       "      <td>My</td>\n",
       "    </tr>\n",
       "    <tr>\n",
       "      <th>6123</th>\n",
       "      <td>0.004458</td>\n",
       "      <td>SAITAMA</td>\n",
       "    </tr>\n",
       "    <tr>\n",
       "      <th>6369</th>\n",
       "      <td>0.004432</td>\n",
       "      <td>SP</td>\n",
       "    </tr>\n",
       "    <tr>\n",
       "      <th>1074</th>\n",
       "      <td>0.004395</td>\n",
       "      <td>CEO</td>\n",
       "    </tr>\n",
       "    <tr>\n",
       "      <th>4518</th>\n",
       "      <td>0.004271</td>\n",
       "      <td>Market</td>\n",
       "    </tr>\n",
       "    <tr>\n",
       "      <th>4300</th>\n",
       "      <td>0.004123</td>\n",
       "      <td>MARKET</td>\n",
       "    </tr>\n",
       "    <tr>\n",
       "      <th>367</th>\n",
       "      <td>0.004086</td>\n",
       "      <td>Altcoins</td>\n",
       "    </tr>\n",
       "  </tbody>\n",
       "</table>\n",
       "</div>"
      ],
      "text/plain": [
       "      Importance                    Feature\n",
       "595     0.120167                    BITCOIN\n",
       "8877    0.065192                   NumWords\n",
       "7979    0.057049                        XRP\n",
       "7249    0.050069                  Technical\n",
       "8875    0.042557           ExclamationCount\n",
       "133     0.033248                   ANALYSIS\n",
       "858     0.028104                    Bitcoin\n",
       "42      0.024360                        ADA\n",
       "1451    0.020554                      Chart\n",
       "1310    0.016353                     CRYPTO\n",
       "8116    0.016009                    bitcoin\n",
       "6244    0.014054                      SHIBA\n",
       "3636    0.013787                         IS\n",
       "8865    0.013698  -33.891 to 4298.1 seconds\n",
       "6352    0.013416                        SOL\n",
       "8876    0.010859              QuestionCount\n",
       "8844    0.010627            emoji stop sign\n",
       "8870    0.010053  8587.2 to 12876.3 seconds\n",
       "1377    0.009791                    Cardano\n",
       "2296    0.009701                   ETHEREUM\n",
       "7102    0.009493                      TODAY\n",
       "111     0.009487                   ALTCOINS\n",
       "4605    0.009030                    Michael\n",
       "5890    0.008387                      Raoul\n",
       "1886    0.008170                   DOGECOIN\n",
       "1696    0.008122                     Crypto\n",
       "3210    0.007832                       HBAR\n",
       "4749    0.007799                        NEW\n",
       "6649    0.007160                  Sentiment\n",
       "8410    0.006376                     market\n",
       "581     0.006082                    BIGGEST\n",
       "8483    0.005951                      price\n",
       "4038    0.005938                       LIVE\n",
       "4757    0.005872                        NFT\n",
       "2470    0.005737                   Ethereum\n",
       "5523    0.005667                      Price\n",
       "7075    0.005611                       THIS\n",
       "1005    0.005233                     Buyers\n",
       "1819    0.004935                        DEX\n",
       "5476    0.004755                  Portfolio\n",
       "7284    0.004656                       That\n",
       "823     0.004631                       Best\n",
       "4784    0.004501                   NOVEMBER\n",
       "4708    0.004459                         My\n",
       "6123    0.004458                    SAITAMA\n",
       "6369    0.004432                         SP\n",
       "1074    0.004395                        CEO\n",
       "4518    0.004271                     Market\n",
       "4300    0.004123                     MARKET\n",
       "367     0.004086                   Altcoins"
      ]
     },
     "execution_count": 68,
     "metadata": {},
     "output_type": "execute_result"
    }
   ],
   "source": [
    "sorted_df.head(50)"
   ]
  },
  {
   "cell_type": "code",
   "execution_count": 69,
   "metadata": {
    "executionInfo": {
     "elapsed": 3,
     "status": "ok",
     "timestamp": 1649318747158,
     "user": {
      "displayName": "Sean Lee",
      "userId": "16401441034184938846"
     },
     "user_tz": -480
    },
    "id": "kgpKljZ3B1hN"
   },
   "outputs": [],
   "source": [
    "sorted_df.to_csv('Feature_Importance.csv', index=False)"
   ]
  },
  {
   "cell_type": "code",
   "execution_count": null,
   "metadata": {},
   "outputs": [],
   "source": []
  }
 ],
 "metadata": {
  "accelerator": "GPU",
  "colab": {
   "authorship_tag": "ABX9TyOyzl3GRzvsUwUQxk35JSSE",
   "collapsed_sections": [],
   "machine_shape": "hm",
   "name": "(Sean) FINAL Feature Engineering + Model Building.ipynb",
   "provenance": []
  },
  "kernelspec": {
   "display_name": "Python 3 (ipykernel)",
   "language": "python",
   "name": "python3"
  },
  "language_info": {
   "codemirror_mode": {
    "name": "ipython",
    "version": 3
   },
   "file_extension": ".py",
   "mimetype": "text/x-python",
   "name": "python",
   "nbconvert_exporter": "python",
   "pygments_lexer": "ipython3",
   "version": "3.9.7"
  }
 },
 "nbformat": 4,
 "nbformat_minor": 4
}
