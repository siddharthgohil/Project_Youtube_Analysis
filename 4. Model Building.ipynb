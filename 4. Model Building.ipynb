{
 "cells": [
  {
   "cell_type": "markdown",
   "metadata": {
    "id": "z4dtQ5f5fyYt"
   },
   "source": [
    "## Import Libraries"
   ]
  },
  {
   "cell_type": "code",
   "execution_count": 1,
   "metadata": {
    "executionInfo": {
     "elapsed": 8,
     "status": "ok",
     "timestamp": 1649324982156,
     "user": {
      "displayName": "Sean Lee",
      "userId": "16401441034184938846"
     },
     "user_tz": -480
    },
    "id": "7s65iYM9fb_w"
   },
   "outputs": [],
   "source": [
    "import pandas as pd\n",
    "import numpy as np\n",
    "import seaborn as sns\n",
    "from tqdm import tqdm\n",
    "import matplotlib.pyplot as plt\n",
    "import re\n",
    "import demoji\n",
    "import os\n",
    "import pickle\n",
    "import warnings\n",
    "\n",
    "# helper libraries\n",
    "from sklearn.model_selection import train_test_split, StratifiedKFold\n",
    "\n",
    "# models\n",
    "from sklearn.feature_extraction.text import TfidfVectorizer, CountVectorizer\n",
    "from sklearn import tree\n",
    "from hyperopt import hp, fmin, tpe, STATUS_OK, Trials\n",
    "from hyperopt.pyll import scope\n",
    "\n",
    "warnings.filterwarnings(\"ignore\")"
   ]
  },
  {
   "cell_type": "markdown",
   "metadata": {},
   "source": [
    "*** Note: Data is manually cleaned after EDA"
   ]
  },
  {
   "cell_type": "code",
   "execution_count": 2,
   "metadata": {
    "id": "pWa-G4Jifd0J"
   },
   "outputs": [],
   "source": [
    "cwd=os.getcwd()\n",
    "path_to_datafile = cwd+'/final_data_folder/Combined/ProcessedData_Cleaned_With_Model_updated_v2.xlsx'\n",
    "bitcoin_data_final = pd.read_excel(path_to_datafile)\n",
    "\n",
    "bitcoin_data_final['Checked FINAL (Manual)'] = bitcoin_data_final['Checked FINAL (Manual)'].fillna(1)\n",
    "bitcoin_data_final = bitcoin_data_final.loc[bitcoin_data_final['Checked FINAL (Manual)'] == 1]"
   ]
  },
  {
   "cell_type": "markdown",
   "metadata": {
    "id": "QhiuhtOugFwk"
   },
   "source": [
    "## Simple EDA"
   ]
  },
  {
   "cell_type": "code",
   "execution_count": 3,
   "metadata": {
    "colab": {
     "base_uri": "https://localhost:8080/",
     "height": 296
    },
    "executionInfo": {
     "elapsed": 715,
     "status": "ok",
     "timestamp": 1649324993628,
     "user": {
      "displayName": "Sean Lee",
      "userId": "16401441034184938846"
     },
     "user_tz": -480
    },
    "id": "hWx1CraYfjOI",
    "outputId": "31310527-aaa7-4752-93fe-f74956685de6"
   },
   "outputs": [
    {
     "data": {
      "text/plain": [
       "<AxesSubplot:xlabel='target'>"
      ]
     },
     "execution_count": 3,
     "metadata": {},
     "output_type": "execute_result"
    },
    {
     "data": {
      "image/png": "[encoded data removed]",
      "text/plain": [
       "<Figure size 432x288 with 1 Axes>"
      ]
     },
     "metadata": {
      "needs_background": "light"
     },
     "output_type": "display_data"
    }
   ],
   "source": [
    "### remove numerical tokens\n",
    "bitcoin_data_final['title_lemmatized_nonum'] = bitcoin_data_final['title_lemmatized'].apply(str).apply(lambda x: re.sub(r'\\d+', '', x))\n",
    "\n",
    "### convert emojis to list of emojis (str)\n",
    "def convert_emoji_to_text(text):\n",
    "    emoji_list = list(set(demoji.findall_list(text)))\n",
    "    return ['emoji ' + i for i in emoji_list]\n",
    "bitcoin_data_final['emojis'] = bitcoin_data_final['emojis'].apply(str).apply(lambda x: convert_emoji_to_text(x))\n",
    "\n",
    "### target variable\n",
    "bitcoin_data_final['target'] = bitcoin_data_final['Views']/(bitcoin_data_final['Subscribers'])\n",
    "sns.boxplot(bitcoin_data_final['target'])"
   ]
  },
  {
   "cell_type": "code",
   "execution_count": 4,
   "metadata": {
    "colab": {
     "base_uri": "https://localhost:8080/"
    },
    "executionInfo": {
     "elapsed": 10,
     "status": "ok",
     "timestamp": 1649324993629,
     "user": {
      "displayName": "Sean Lee",
      "userId": "16401441034184938846"
     },
     "user_tz": -480
    },
    "id": "9NhXIc5BgTtH",
    "outputId": "7c20411d-abbf-4a5c-b51b-be8a1e4159ae"
   },
   "outputs": [
    {
     "data": {
      "text/plain": [
       "(13675, 33)"
      ]
     },
     "execution_count": 4,
     "metadata": {},
     "output_type": "execute_result"
    }
   ],
   "source": [
    "def remove_outlier_IQR(df):\n",
    "    Q1=df['target'].quantile(0.25)\n",
    "    Q3=df['target'].quantile(0.75)\n",
    "    IQR=Q3-Q1\n",
    "    df_final=df[~((df['target']<(Q1-1.5*IQR)) | (df['target']>(Q3+1.5*IQR)))]\n",
    "    return df_final.reset_index(drop=True)\n",
    "\n",
    "bitcoin_data_final = remove_outlier_IQR(bitcoin_data_final)\n",
    "\n",
    "bitcoin_data_final.shape"
   ]
  },
  {
   "cell_type": "code",
   "execution_count": 5,
   "metadata": {
    "executionInfo": {
     "elapsed": 7,
     "status": "ok",
     "timestamp": 1649324993629,
     "user": {
      "displayName": "Sean Lee",
      "userId": "16401441034184938846"
     },
     "user_tz": -480
    },
    "id": "ihG63dKvg3-l"
   },
   "outputs": [],
   "source": [
    "### determine categorical and numerical features\n",
    "numerical_ix = ['HashtagCount', 'ExclamationCount','QuestionCount', 'NumWords']\n",
    "categorical_ix = ['HasHashtag','Total Seconds bins','HasCaps','HasPrediction','emojis']\n",
    "text_chosen = 'title_lemmatized_nonum'"
   ]
  },
  {
   "cell_type": "code",
   "execution_count": 6,
   "metadata": {
    "executionInfo": {
     "elapsed": 7,
     "status": "ok",
     "timestamp": 1649324993629,
     "user": {
      "displayName": "Sean Lee",
      "userId": "16401441034184938846"
     },
     "user_tz": -480
    },
    "id": "nb_d1-zoiZ3k"
   },
   "outputs": [],
   "source": [
    "### setup explanatory and target variables\n",
    "selected_cols =  numerical_ix + categorical_ix\n",
    "selected_cols.append(text_chosen)\n",
    "\n",
    "X, y = bitcoin_data_final[selected_cols],  bitcoin_data_final['target']"
   ]
  },
  {
   "cell_type": "code",
   "execution_count": 7,
   "metadata": {
    "colab": {
     "base_uri": "https://localhost:8080/"
    },
    "executionInfo": {
     "elapsed": 7,
     "status": "ok",
     "timestamp": 1649324993629,
     "user": {
      "displayName": "Sean Lee",
      "userId": "16401441034184938846"
     },
     "user_tz": -480
    },
    "id": "ohx5DIcU-6Us",
    "outputId": "01220ef7-8651-4dcc-a8e0-8fe2b41a3fdb"
   },
   "outputs": [
    {
     "data": {
      "text/plain": [
       "(13675, 10)"
      ]
     },
     "execution_count": 7,
     "metadata": {},
     "output_type": "execute_result"
    }
   ],
   "source": [
    "X.shape"
   ]
  },
  {
   "cell_type": "code",
   "execution_count": 8,
   "metadata": {
    "executionInfo": {
     "elapsed": 6,
     "status": "ok",
     "timestamp": 1649324993630,
     "user": {
      "displayName": "Sean Lee",
      "userId": "16401441034184938846"
     },
     "user_tz": -480
    },
    "id": "LWhBQWrhVJpg"
   },
   "outputs": [],
   "source": [
    "X_train, X_test, y_train, y_test = train_test_split(X, y,\n",
    "                                                    test_size=0.2,\n",
    "                                                    random_state=2022,\n",
    "                                                    shuffle = True)\n",
    "\n",
    "X_train, y_train = X_train.reset_index(drop=True), y_train.reset_index(drop=True)\n",
    "X_test, y_test = X_test.reset_index(drop=True), y_test.reset_index(drop=True)"
   ]
  },
  {
   "cell_type": "code",
   "execution_count": 9,
   "metadata": {
    "colab": {
     "base_uri": "https://localhost:8080/",
     "height": 296
    },
    "executionInfo": {
     "elapsed": 756,
     "status": "ok",
     "timestamp": 1649324994381,
     "user": {
      "displayName": "Sean Lee",
      "userId": "16401441034184938846"
     },
     "user_tz": -480
    },
    "id": "B3SCo5TpOtDJ",
    "outputId": "b3e11410-7561-41cc-a528-93727541e9ed"
   },
   "outputs": [
    {
     "data": {
      "text/plain": [
       "<AxesSubplot:xlabel='target', ylabel='Count'>"
      ]
     },
     "execution_count": 9,
     "metadata": {},
     "output_type": "execute_result"
    },
    {
     "data": {
      "image/png": "[encoded data removed]",
      "text/plain": [
       "<Figure size 432x288 with 1 Axes>"
      ]
     },
     "metadata": {
      "needs_background": "light"
     },
     "output_type": "display_data"
    }
   ],
   "source": [
    "sns.histplot(y_train)"
   ]
  },
  {
   "cell_type": "code",
   "execution_count": 10,
   "metadata": {
    "colab": {
     "base_uri": "https://localhost:8080/"
    },
    "executionInfo": {
     "elapsed": 8,
     "status": "ok",
     "timestamp": 1649324994382,
     "user": {
      "displayName": "Sean Lee",
      "userId": "16401441034184938846"
     },
     "user_tz": -480
    },
    "id": "jvJueBUqOu6L",
    "outputId": "40484c15-d697-4d01-969d-2d7412369e3f"
   },
   "outputs": [
    {
     "data": {
      "text/plain": [
       "count    10940.000000\n",
       "mean         0.101514\n",
       "std          0.067178\n",
       "min          0.001466\n",
       "25%          0.048560\n",
       "50%          0.088276\n",
       "75%          0.142407\n",
       "max          0.305940\n",
       "Name: target, dtype: float64"
      ]
     },
     "execution_count": 10,
     "metadata": {},
     "output_type": "execute_result"
    }
   ],
   "source": [
    "y_train.describe()"
   ]
  },
  {
   "cell_type": "markdown",
   "metadata": {
    "id": "PHpwrbofiruU"
   },
   "source": [
    "## Objective Function"
   ]
  },
  {
   "cell_type": "markdown",
   "metadata": {
    "id": "TkT6T99BPEzK"
   },
   "source": [
    "### Helper Functions"
   ]
  },
  {
   "cell_type": "code",
   "execution_count": 11,
   "metadata": {
    "executionInfo": {
     "elapsed": 5,
     "status": "ok",
     "timestamp": 1649324994382,
     "user": {
      "displayName": "Sean Lee",
      "userId": "16401441034184938846"
     },
     "user_tz": -480
    },
    "id": "xmev9EzBiylv"
   },
   "outputs": [],
   "source": [
    "def evaluate(y_true, y_pred, vect, model, text_only=True, obj_func=False):\n",
    "    \"\"\"\n",
    "    Main objective of this function is to calculate evaluation metrics such as RMSE and MSE based on given predicted and actual target values\n",
    "\n",
    "    Parameters:\n",
    "    ---------\n",
    "    (1) y_true: actual target variable\n",
    "    (2) y_pred: model predicted target variable\n",
    "    (3) vect: vector used for text column (TfidfVectorizer / CountVectorizer)\n",
    "    (4) model: regression model used to fit data\n",
    "    (5) text_only (optional): boolean flag to indicate if only text data was used or not\n",
    "\n",
    "    Returns:\n",
    "    -------\n",
    "    if obj_func = True:\n",
    "        (1) dictionary of metric results\n",
    "    else:\n",
    "        (1) RMSE score\n",
    "    \n",
    "    \"\"\"\n",
    "    \n",
    "    def mse(y_predicted, y_true):\n",
    "        return np.mean(np.square(np.subtract(np.array(y_predicted), np.array(y_true))))\n",
    "    \n",
    "    mse = mse(y_pred, y_true)\n",
    "    rmse = np.sqrt(mse)\n",
    "\n",
    "    if obj_func:\n",
    "        return rmse\n",
    "\n",
    "    else:\n",
    "        return {\"MSE\": mse, \n",
    "                \"RMSE\": rmse,\n",
    "                \"Vect Used\": vect,\n",
    "                \"Model Used\": model,\n",
    "                \"TextOnly\": text_only}\n",
    "\n",
    "def feature_encoding(X_train, X_test, vect, text_only=True):\n",
    "    \"\"\"\n",
    "    Main objective of this function is to convert original dataset into features\n",
    "        - text data to document term matrix\n",
    "        - one hot encoding on emojis\n",
    "        - one hot encoding on categorical variables\n",
    "        - concatenate all features into a single df\n",
    "\n",
    "    Parameters:\n",
    "    ---------\n",
    "    (1) X_train: training data set (done after kfold except testing on out-of-sample data)\n",
    "    (2) X_test: test data set (done after kfold except testing on out-of-sample data)\n",
    "    (3) vect: vector used for text column (TfidfVectorizer / CountVectorizer)\n",
    "    (4) text_only (optional): boolean flag to indicate if only text data was used or not\n",
    "\n",
    "    Returns:\n",
    "    -------\n",
    "    (1) X_train_combined: train df with all features concatenated to be fitted into model\n",
    "    (2) X_test_combined: test df with all features concatenated to be tested\n",
    "    \n",
    "    \"\"\"\n",
    "\n",
    "    X_train_mat = vect.fit_transform(X_train[text_chosen])\n",
    "    X_test_mat = vect.transform(X_test[text_chosen])\n",
    "    features = vect.get_feature_names_out()\n",
    "\n",
    "    X_train_dtm = pd.DataFrame(data=X_train_mat.toarray(), columns = features)\n",
    "    X_test_dtm = pd.DataFrame(data=X_test_mat.toarray(), columns = features)\n",
    "    \n",
    "    if text_only:\n",
    "        \n",
    "        X_train_combined, X_test_combined = X_train_dtm, X_test_dtm\n",
    "\n",
    "    else:\n",
    "      \n",
    "        # numerical features\n",
    "        X_train_num_transformed = X_train[numerical_ix]\n",
    "        X_test_num_transformed = X_test[numerical_ix]\n",
    "\n",
    "        # emojis\n",
    "        one_hot_emoji_train = pd.get_dummies(X_train['emojis'].apply(pd.Series).stack()).sum(level=0)\n",
    "        one_hot_emoji_test = pd.get_dummies(X_test['emojis'].apply(pd.Series).stack()).sum(level=0)\n",
    "        one_hot_emoji_test_dropped = one_hot_emoji_test.drop(columns=[x for x in one_hot_emoji_test.columns if x not in one_hot_emoji_train.columns])\n",
    "        for col in one_hot_emoji_train.columns:\n",
    "            if col not in one_hot_emoji_test_dropped.columns:\n",
    "                one_hot_emoji_test_dropped[col] = 0\n",
    "\n",
    "        # video length\n",
    "        one_hot_seconds_train = pd.get_dummies(X_train['Total Seconds bins'].apply(pd.Series).stack()).sum(level=0) # one-hot encoding\n",
    "        one_hot_seconds_train.columns = [x.replace('(','').replace(']','').replace(',', ' to') + ' seconds' for x in one_hot_seconds_train.columns]\n",
    "        one_hot_seconds_test = pd.get_dummies(X_test['Total Seconds bins'].apply(pd.Series).stack()).sum(level=0) # one-hot encoding\n",
    "        one_hot_seconds_test.columns = [x.replace('(','').replace(']','').replace(',', ' to') + ' seconds' for x in one_hot_seconds_test.columns]\n",
    "        one_hot_seconds_test = one_hot_seconds_test.reindex(columns = one_hot_seconds_train.columns, fill_value=0)\n",
    "\n",
    "        # combine all features\n",
    "        X_train_combined = X_train_dtm.join(one_hot_emoji_train).join(one_hot_seconds_train).join(X_train[['HasHashtag','HasCaps','HasPrediction']]).join(X_train_num_transformed).fillna(0)\n",
    "        X_test_combined = X_test_dtm.join(one_hot_emoji_test_dropped).join(one_hot_seconds_test).join(X_test[['HasHashtag','HasCaps','HasPrediction']]).join(X_test_num_transformed).fillna(0)\n",
    "    \n",
    "    return X_train_combined, X_test_combined\n",
    "\n",
    "def create_folds(df, n_s, n_grp, plot=False):\n",
    "    \"\"\"\n",
    "    Main objective of this function is to create stratified kfolds of the data\n",
    "        - new added 'Fold' column is added from (0 to `n_s` - 1)\n",
    "\n",
    "    Parameters:\n",
    "    ---------\n",
    "    (1) df: dataframe for k-fold to be performed on\n",
    "    (2) n_s: number of folds\n",
    "    (3) n_grp: number of bins to bin the target variable (the higher the better)\n",
    "    (4) plot (optional): plot target variable distribution of each fold\n",
    "\n",
    "    Returns:\n",
    "    -------\n",
    "    (1) df: df with added 'Fold' column\n",
    "    \n",
    "    \"\"\"\n",
    "\n",
    "    df['Fold'] = -1\n",
    "\n",
    "    kf = StratifiedKFold(n_splits=n_s, shuffle=True)\n",
    "    df['grp'] = pd.cut(df.target, n_grp, labels=False)\n",
    "    target = df.grp\n",
    "\n",
    "    for fold_no, (t, v) in enumerate(kf.split(target, target)):\n",
    "        df.loc[v, 'Fold'] = fold_no\n",
    "    \n",
    "    ### plot k-fold distribution to ensure equal distribution\n",
    "    if plot:\n",
    "        fig, axs = plt.subplots(1, n_s, sharex=True, sharey=True, figsize=(10,4))\n",
    "        for i, ax in enumerate(axs):\n",
    "            ax.hist(df[df.Fold == i]['target'], bins=100, density=True, label=f'Fold-{i}')\n",
    "            if i == 0:\n",
    "                ax.set_ylabel('Frequency')\n",
    "            if i == 2:\n",
    "                ax.set_xlabel(\"Target\")\n",
    "            ax.legend(frameon=False, handlelength=0)\n",
    "        plt.tight_layout()\n",
    "        plt.show()\n",
    "\n",
    "    return df.drop(columns=['grp'])"
   ]
  },
  {
   "cell_type": "markdown",
   "metadata": {
    "id": "a-zrehCmRNkO"
   },
   "source": [
    "### Main Training Function"
   ]
  },
  {
   "cell_type": "code",
   "execution_count": 12,
   "metadata": {
    "executionInfo": {
     "elapsed": 5,
     "status": "ok",
     "timestamp": 1649324994382,
     "user": {
      "displayName": "Sean Lee",
      "userId": "16401441034184938846"
     },
     "user_tz": -480
    },
    "id": "510BK3VZHVzm"
   },
   "outputs": [],
   "source": [
    "def resample_train_and_evaluate_model(x, y, vect, model, text_only=True, obj_function=False, plot=False):\n",
    "    \"\"\"\n",
    "\n",
    "    This function performs Stratified KFold Cross Validation to evaluate the performance of models.\n",
    "        1. Create k-folds with the data\n",
    "        2. Iterate over each fold as the test set and the rest of the data as the train set.\n",
    "        3. Perform feature encoding to prepare data for model fitting / prediction.\n",
    "        4. Fit model & Predict on test set (fold)\n",
    "        5. Evaluate results using RMSE and append to results table.\n",
    "\n",
    "    Parameters:\n",
    "    ---------\n",
    "    (1) x\n",
    "    (2) y\n",
    "    (3) vect: vector used for text column (TfidfVectorizer / CountVectorizer)\n",
    "    (4) model: regression model used to fit data\n",
    "    (5) text_only (optional): boolean flag to indicate if only text data was used or not\n",
    "    (6) obj_function (optional): boolean flag to indicate if used for hyperparameter tuning or not\n",
    "    (6) plot (optional): plot target variable distribution of each fold\n",
    "\n",
    "    Returns:\n",
    "    -------\n",
    "    if obj_function == True:\n",
    "        (1) RMSE -> only used for hyperparameter tuning\n",
    "    else:\n",
    "        (1) dictionary of results to be appended to the results table\n",
    "    \n",
    "    \"\"\"\n",
    "\n",
    "    y_true, y_preds = [], []\n",
    "    num_folds = 5\n",
    "    num_bins = 5 # pseudo-categorical\n",
    "    \n",
    "    df = pd.concat([x,y], axis=1)\n",
    "    folded_df = create_folds(df, num_folds, num_bins, plot)\n",
    "  \n",
    "    for i in tqdm(range(num_folds)):\n",
    "        curr_train, curr_test = folded_df[df.Fold != i], folded_df[df.Fold == i]\n",
    "        x_train, x_test = curr_train.drop(columns=['target','Fold']), curr_test.drop(columns=['target','Fold'])\n",
    "        y_train, y_test = curr_train['target'], curr_test['target']\n",
    "\n",
    "        x_train_df, x_test_df = feature_encoding(x_train, x_test, vect, text_only)\n",
    "\n",
    "        model.fit(x_train_df, y_train)\n",
    "\n",
    "        y_pred = model.predict(x_test_df)\n",
    "        y_preds.extend(y_pred)\n",
    "        y_true.extend(y_test)\n",
    "\n",
    "    return evaluate(y_true, y_preds, vect, model, text_only, obj_function)"
   ]
  },
  {
   "cell_type": "markdown",
   "metadata": {
    "id": "OamcCxFm1lXN"
   },
   "source": [
    "## Pick Best Text Model"
   ]
  },
  {
   "cell_type": "markdown",
   "metadata": {
    "id": "BvDppGDVbt-t"
   },
   "source": [
    "### Helper Functions"
   ]
  },
  {
   "cell_type": "code",
   "execution_count": 13,
   "metadata": {
    "executionInfo": {
     "elapsed": 6,
     "status": "ok",
     "timestamp": 1649324994383,
     "user": {
      "displayName": "Sean Lee",
      "userId": "16401441034184938846"
     },
     "user_tz": -480
    },
    "id": "5Hs1DO031JAZ"
   },
   "outputs": [],
   "source": [
    "### initialise df to store model results\n",
    "res_test = pd.DataFrame()\n",
    "\n",
    "def countvectorizer_evaluate(res_test, x, y, model):\n",
    "    \"\"\"\n",
    "\n",
    "    This function evaluates the performance of using CountVectorizer over different hyperparameters.\n",
    "        - done using Stratified KFold CV method\n",
    "\n",
    "    Parameters:\n",
    "    ---------\n",
    "    (1) res_test: results dataframe\n",
    "    (2) x\n",
    "    (3) y\n",
    "    (4) model: regression model used to fit data\n",
    "\n",
    "    Returns:\n",
    "    -------\n",
    "    (1) res_test: results dataframe with updated results\n",
    "    \n",
    "    \"\"\"\n",
    "\n",
    "    count_vect_args = {'default':{},\n",
    "                      'without setting to lowercase and remove stopwords':{'lowercase':False, 'stop_words':'english'},\n",
    "                      'without setting to lowercase':{'lowercase':False},\n",
    "                      }\n",
    "\n",
    "    for k,v in tqdm(count_vect_args.items()):\n",
    "        vect = CountVectorizer(**count_vect_args[k])\n",
    "        results = resample_train_and_evaluate_model(x, y, vect, model)\n",
    "        res_test=res_test.append(results,ignore_index=True)\n",
    "\n",
    "    return res_test\n",
    "\n",
    "def tfidfvectorizer_evaluate(res_test, x, y, model):\n",
    "    \"\"\"\n",
    "\n",
    "    This function evaluates the performance of using TfidfVectorizer over different hyperparameters.\n",
    "        - done using Stratified KFold CV method\n",
    "\n",
    "    Parameters:\n",
    "    ---------\n",
    "    (1) res_test: results dataframe\n",
    "    (2) x\n",
    "    (3) y\n",
    "    (4) model: regression model used to fit data\n",
    "\n",
    "    Returns:\n",
    "    -------\n",
    "    (1) res_test: results dataframe with updated results\n",
    "    \n",
    "    \"\"\"\n",
    "\n",
    "    tfidf_vect_args = {'default':{},\n",
    "                      'without setting to lowercase and remove stopwords':{'lowercase':False, 'stop_words':'english'},\n",
    "                      'without setting to lowercase':{'lowercase':False},\n",
    "                      }\n",
    "\n",
    "    for k,v in tqdm(tfidf_vect_args.items()):\n",
    "        vect = TfidfVectorizer(**tfidf_vect_args[k])\n",
    "        results = resample_train_and_evaluate_model(x, y, vect, model)\n",
    "        res_test=res_test.append(results,ignore_index=True)\n",
    "\n",
    "    return res_test"
   ]
  },
  {
   "cell_type": "markdown",
   "metadata": {
    "id": "FEoMsabXbzkj"
   },
   "source": [
    "### Test NLP Models"
   ]
  },
  {
   "cell_type": "code",
   "execution_count": 14,
   "metadata": {
    "executionInfo": {
     "elapsed": 490338,
     "status": "ok",
     "timestamp": 1649325484715,
     "user": {
      "displayName": "Sean Lee",
      "userId": "16401441034184938846"
     },
     "user_tz": -480
    },
    "id": "_hvW1lzf28kn"
   },
   "outputs": [
    {
     "name": "stderr",
     "output_type": "stream",
     "text": [
      "  0%|                                                                                            | 0/3 [00:00<?, ?it/s]\n",
      "  0%|                                                                                            | 0/5 [00:00<?, ?it/s]\u001b[A\n",
      " 20%|████████████████▊                                                                   | 1/5 [00:09<00:39,  9.84s/it]\u001b[A\n",
      " 40%|█████████████████████████████████▌                                                  | 2/5 [00:19<00:28,  9.46s/it]\u001b[A\n",
      " 60%|██████████████████████████████████████████████████▍                                 | 3/5 [00:28<00:18,  9.36s/it]\u001b[A\n",
      " 80%|███████████████████████████████████████████████████████████████████▏                | 4/5 [00:36<00:09,  9.07s/it]\u001b[A\n",
      "100%|████████████████████████████████████████████████████████████████████████████████████| 5/5 [00:45<00:00,  9.13s/it]\u001b[A\n",
      " 33%|████████████████████████████                                                        | 1/3 [00:45<01:31, 45.70s/it]\n",
      "  0%|                                                                                            | 0/5 [00:00<?, ?it/s]\u001b[A\n",
      " 20%|████████████████▊                                                                   | 1/5 [00:17<01:10, 17.70s/it]\u001b[A\n",
      " 40%|█████████████████████████████████▌                                                  | 2/5 [00:35<00:53, 17.86s/it]\u001b[A\n",
      " 60%|██████████████████████████████████████████████████▍                                 | 3/5 [00:51<00:34, 17.14s/it]\u001b[A\n",
      " 80%|███████████████████████████████████████████████████████████████████▏                | 4/5 [01:08<00:16, 16.88s/it]\u001b[A\n",
      "100%|████████████████████████████████████████████████████████████████████████████████████| 5/5 [01:25<00:00, 17.02s/it]\u001b[A\n",
      " 67%|████████████████████████████████████████████████████████                            | 2/3 [02:10<01:08, 68.90s/it]\n",
      "  0%|                                                                                            | 0/5 [00:00<?, ?it/s]\u001b[A\n",
      " 20%|████████████████▊                                                                   | 1/5 [00:19<01:16, 19.12s/it]\u001b[A\n",
      " 40%|█████████████████████████████████▌                                                  | 2/5 [00:36<00:54, 18.19s/it]\u001b[A\n",
      " 60%|██████████████████████████████████████████████████▍                                 | 3/5 [00:55<00:36, 18.32s/it]\u001b[A\n",
      " 80%|███████████████████████████████████████████████████████████████████▏                | 4/5 [01:12<00:17, 17.78s/it]\u001b[A\n",
      "100%|████████████████████████████████████████████████████████████████████████████████████| 5/5 [01:28<00:00, 17.71s/it]\u001b[A\n",
      "100%|████████████████████████████████████████████████████████████████████████████████████| 3/3 [03:39<00:00, 73.16s/it]\n"
     ]
    }
   ],
   "source": [
    "# Takes about 10mins\n",
    "base_testing_model = tree.DecisionTreeRegressor(max_depth = 50, min_samples_split = 100, random_state=2022)\n",
    "res_test = countvectorizer_evaluate(res_test, X_train, y_train, base_testing_model)"
   ]
  },
  {
   "cell_type": "code",
   "execution_count": 15,
   "metadata": {},
   "outputs": [
    {
     "name": "stderr",
     "output_type": "stream",
     "text": [
      "  0%|                                                                                            | 0/3 [00:00<?, ?it/s]\n",
      "  0%|                                                                                            | 0/5 [00:00<?, ?it/s]\u001b[A\n",
      " 20%|████████████████▊                                                                   | 1/5 [00:09<00:37,  9.44s/it]\u001b[A\n",
      " 40%|█████████████████████████████████▌                                                  | 2/5 [00:19<00:29,  9.67s/it]\u001b[A\n",
      " 60%|██████████████████████████████████████████████████▍                                 | 3/5 [00:28<00:18,  9.47s/it]\u001b[A\n",
      " 80%|███████████████████████████████████████████████████████████████████▏                | 4/5 [00:38<00:09,  9.54s/it]\u001b[A\n",
      "100%|████████████████████████████████████████████████████████████████████████████████████| 5/5 [00:49<00:00,  9.81s/it]\u001b[A\n",
      " 33%|████████████████████████████                                                        | 1/3 [00:49<01:38, 49.11s/it]\n",
      "  0%|                                                                                            | 0/5 [00:00<?, ?it/s]\u001b[A\n",
      " 20%|████████████████▊                                                                   | 1/5 [00:19<01:16, 19.04s/it]\u001b[A\n",
      " 40%|█████████████████████████████████▌                                                  | 2/5 [00:40<01:01, 20.35s/it]\u001b[A\n",
      " 60%|██████████████████████████████████████████████████▍                                 | 3/5 [00:58<00:39, 19.55s/it]\u001b[A\n",
      " 80%|███████████████████████████████████████████████████████████████████▏                | 4/5 [01:18<00:19, 19.76s/it]\u001b[A\n",
      "100%|████████████████████████████████████████████████████████████████████████████████████| 5/5 [01:38<00:00, 19.79s/it]\u001b[A\n",
      " 67%|████████████████████████████████████████████████████████                            | 2/3 [02:28<01:18, 78.46s/it]\n",
      "  0%|                                                                                            | 0/5 [00:00<?, ?it/s]\u001b[A\n",
      " 20%|████████████████▊                                                                   | 1/5 [00:16<01:07, 16.91s/it]\u001b[A\n",
      " 40%|█████████████████████████████████▌                                                  | 2/5 [00:37<00:57, 19.04s/it]\u001b[A\n",
      " 60%|██████████████████████████████████████████████████▍                                 | 3/5 [00:58<00:40, 20.16s/it]\u001b[A\n",
      " 80%|███████████████████████████████████████████████████████████████████▏                | 4/5 [01:22<00:21, 21.60s/it]\u001b[A\n",
      "100%|████████████████████████████████████████████████████████████████████████████████████| 5/5 [01:42<00:00, 20.54s/it]\u001b[A\n",
      "100%|████████████████████████████████████████████████████████████████████████████████████| 3/3 [04:10<00:00, 83.63s/it]\n"
     ]
    }
   ],
   "source": [
    "base_testing_model = tree.DecisionTreeRegressor(max_depth = 50, min_samples_split = 100, random_state=2022)\n",
    "res_test = tfidfvectorizer_evaluate(res_test, X_train, y_train, base_testing_model)"
   ]
  },
  {
   "cell_type": "code",
   "execution_count": 16,
   "metadata": {
    "colab": {
     "base_uri": "https://localhost:8080/",
     "height": 238
    },
    "executionInfo": {
     "elapsed": 20,
     "status": "ok",
     "timestamp": 1649325484716,
     "user": {
      "displayName": "Sean Lee",
      "userId": "16401441034184938846"
     },
     "user_tz": -480
    },
    "id": "SKeQ57UaUxdR",
    "outputId": "c7cb0eb4-1538-4d59-a219-d30edc070a68"
   },
   "outputs": [
    {
     "data": {
      "text/html": [
       "<div>\n",
       "<style scoped>\n",
       "    .dataframe tbody tr th:only-of-type {\n",
       "        vertical-align: middle;\n",
       "    }\n",
       "\n",
       "    .dataframe tbody tr th {\n",
       "        vertical-align: top;\n",
       "    }\n",
       "\n",
       "    .dataframe thead th {\n",
       "        text-align: right;\n",
       "    }\n",
       "</style>\n",
       "<table border=\"1\" class=\"dataframe\">\n",
       "  <thead>\n",
       "    <tr style=\"text-align: right;\">\n",
       "      <th></th>\n",
       "      <th>MSE</th>\n",
       "      <th>RMSE</th>\n",
       "      <th>Vect Used</th>\n",
       "      <th>Model Used</th>\n",
       "      <th>TextOnly</th>\n",
       "    </tr>\n",
       "  </thead>\n",
       "  <tbody>\n",
       "    <tr>\n",
       "      <th>0</th>\n",
       "      <td>0.003994</td>\n",
       "      <td>0.063195</td>\n",
       "      <td>CountVectorizer()</td>\n",
       "      <td>DecisionTreeRegressor(max_depth=50, min_sample...</td>\n",
       "      <td>1.0</td>\n",
       "    </tr>\n",
       "    <tr>\n",
       "      <th>1</th>\n",
       "      <td>0.003737</td>\n",
       "      <td>0.061131</td>\n",
       "      <td>CountVectorizer(lowercase=False, stop_words='e...</td>\n",
       "      <td>DecisionTreeRegressor(max_depth=50, min_sample...</td>\n",
       "      <td>1.0</td>\n",
       "    </tr>\n",
       "    <tr>\n",
       "      <th>2</th>\n",
       "      <td>0.003774</td>\n",
       "      <td>0.061430</td>\n",
       "      <td>CountVectorizer(lowercase=False)</td>\n",
       "      <td>DecisionTreeRegressor(max_depth=50, min_sample...</td>\n",
       "      <td>1.0</td>\n",
       "    </tr>\n",
       "    <tr>\n",
       "      <th>3</th>\n",
       "      <td>0.004327</td>\n",
       "      <td>0.065781</td>\n",
       "      <td>TfidfVectorizer()</td>\n",
       "      <td>DecisionTreeRegressor(max_depth=50, min_sample...</td>\n",
       "      <td>1.0</td>\n",
       "    </tr>\n",
       "    <tr>\n",
       "      <th>4</th>\n",
       "      <td>0.003917</td>\n",
       "      <td>0.062585</td>\n",
       "      <td>TfidfVectorizer(lowercase=False, stop_words='e...</td>\n",
       "      <td>DecisionTreeRegressor(max_depth=50, min_sample...</td>\n",
       "      <td>1.0</td>\n",
       "    </tr>\n",
       "    <tr>\n",
       "      <th>5</th>\n",
       "      <td>0.003883</td>\n",
       "      <td>0.062314</td>\n",
       "      <td>TfidfVectorizer(lowercase=False)</td>\n",
       "      <td>DecisionTreeRegressor(max_depth=50, min_sample...</td>\n",
       "      <td>1.0</td>\n",
       "    </tr>\n",
       "  </tbody>\n",
       "</table>\n",
       "</div>"
      ],
      "text/plain": [
       "        MSE      RMSE                                          Vect Used  \\\n",
       "0  0.003994  0.063195                                  CountVectorizer()   \n",
       "1  0.003737  0.061131  CountVectorizer(lowercase=False, stop_words='e...   \n",
       "2  0.003774  0.061430                   CountVectorizer(lowercase=False)   \n",
       "3  0.004327  0.065781                                  TfidfVectorizer()   \n",
       "4  0.003917  0.062585  TfidfVectorizer(lowercase=False, stop_words='e...   \n",
       "5  0.003883  0.062314                   TfidfVectorizer(lowercase=False)   \n",
       "\n",
       "                                          Model Used  TextOnly  \n",
       "0  DecisionTreeRegressor(max_depth=50, min_sample...       1.0  \n",
       "1  DecisionTreeRegressor(max_depth=50, min_sample...       1.0  \n",
       "2  DecisionTreeRegressor(max_depth=50, min_sample...       1.0  \n",
       "3  DecisionTreeRegressor(max_depth=50, min_sample...       1.0  \n",
       "4  DecisionTreeRegressor(max_depth=50, min_sample...       1.0  \n",
       "5  DecisionTreeRegressor(max_depth=50, min_sample...       1.0  "
      ]
     },
     "execution_count": 16,
     "metadata": {},
     "output_type": "execute_result"
    }
   ],
   "source": [
    "res_test"
   ]
  },
  {
   "cell_type": "markdown",
   "metadata": {
    "id": "Jpc9SKiaN1N-"
   },
   "source": [
    "## Build Model"
   ]
  },
  {
   "cell_type": "code",
   "execution_count": 17,
   "metadata": {
    "executionInfo": {
     "elapsed": 17,
     "status": "ok",
     "timestamp": 1649325484717,
     "user": {
      "displayName": "Sean Lee",
      "userId": "16401441034184938846"
     },
     "user_tz": -480
    },
    "id": "etgXpgcQcA6i"
   },
   "outputs": [],
   "source": [
    "vect = res_test.iloc[res_test[['RMSE']].idxmin()[0]]['Vect Used'] # get best text model"
   ]
  },
  {
   "cell_type": "markdown",
   "metadata": {
    "id": "6uWJWfh0eyOd"
   },
   "source": [
    "### Base Decision Tree Model\n",
    "\n",
    "This is will be used as a baseline model comparison with the tuned model."
   ]
  },
  {
   "cell_type": "code",
   "execution_count": 18,
   "metadata": {
    "colab": {
     "base_uri": "https://localhost:8080/",
     "height": 297
    },
    "executionInfo": {
     "elapsed": 56219,
     "status": "ok",
     "timestamp": 1649325540919,
     "user": {
      "displayName": "Sean Lee",
      "userId": "16401441034184938846"
     },
     "user_tz": -480
    },
    "id": "NsOMM-VLfCKa",
    "outputId": "02177f4b-d376-41ae-e827-a30cf784e95c"
   },
   "outputs": [
    {
     "data": {
      "image/png": "[encoded data removed]",
      "text/plain": [
       "<Figure size 720x288 with 5 Axes>"
      ]
     },
     "metadata": {
      "needs_background": "light"
     },
     "output_type": "display_data"
    },
    {
     "name": "stderr",
     "output_type": "stream",
     "text": [
      "100%|████████████████████████████████████████████████████████████████████████████████████| 5/5 [01:00<00:00, 12.17s/it]\n"
     ]
    }
   ],
   "source": [
    "base_testing_model = tree.DecisionTreeRegressor(max_depth = 50, min_samples_split = 100, random_state=2022)\n",
    "results_tree = resample_train_and_evaluate_model(X_train, y_train, vect, base_testing_model, text_only=False, plot=True)\n",
    "res_test=res_test.append(results_tree,ignore_index=True)"
   ]
  },
  {
   "cell_type": "code",
   "execution_count": 19,
   "metadata": {
    "colab": {
     "base_uri": "https://localhost:8080/",
     "height": 269
    },
    "executionInfo": {
     "elapsed": 24,
     "status": "ok",
     "timestamp": 1649325540920,
     "user": {
      "displayName": "Sean Lee",
      "userId": "16401441034184938846"
     },
     "user_tz": -480
    },
    "id": "VpPK4zZraYZW",
    "outputId": "31950bb1-b65b-4c9c-be74-6e719ba1c6f5"
   },
   "outputs": [
    {
     "data": {
      "text/html": [
       "<div>\n",
       "<style scoped>\n",
       "    .dataframe tbody tr th:only-of-type {\n",
       "        vertical-align: middle;\n",
       "    }\n",
       "\n",
       "    .dataframe tbody tr th {\n",
       "        vertical-align: top;\n",
       "    }\n",
       "\n",
       "    .dataframe thead th {\n",
       "        text-align: right;\n",
       "    }\n",
       "</style>\n",
       "<table border=\"1\" class=\"dataframe\">\n",
       "  <thead>\n",
       "    <tr style=\"text-align: right;\">\n",
       "      <th></th>\n",
       "      <th>MSE</th>\n",
       "      <th>RMSE</th>\n",
       "      <th>Vect Used</th>\n",
       "      <th>Model Used</th>\n",
       "      <th>TextOnly</th>\n",
       "    </tr>\n",
       "  </thead>\n",
       "  <tbody>\n",
       "    <tr>\n",
       "      <th>0</th>\n",
       "      <td>0.003994</td>\n",
       "      <td>0.063195</td>\n",
       "      <td>CountVectorizer()</td>\n",
       "      <td>DecisionTreeRegressor(max_depth=50, min_sample...</td>\n",
       "      <td>1.0</td>\n",
       "    </tr>\n",
       "    <tr>\n",
       "      <th>1</th>\n",
       "      <td>0.003737</td>\n",
       "      <td>0.061131</td>\n",
       "      <td>CountVectorizer(lowercase=False, stop_words='e...</td>\n",
       "      <td>DecisionTreeRegressor(max_depth=50, min_sample...</td>\n",
       "      <td>1.0</td>\n",
       "    </tr>\n",
       "    <tr>\n",
       "      <th>2</th>\n",
       "      <td>0.003774</td>\n",
       "      <td>0.061430</td>\n",
       "      <td>CountVectorizer(lowercase=False)</td>\n",
       "      <td>DecisionTreeRegressor(max_depth=50, min_sample...</td>\n",
       "      <td>1.0</td>\n",
       "    </tr>\n",
       "    <tr>\n",
       "      <th>3</th>\n",
       "      <td>0.004327</td>\n",
       "      <td>0.065781</td>\n",
       "      <td>TfidfVectorizer()</td>\n",
       "      <td>DecisionTreeRegressor(max_depth=50, min_sample...</td>\n",
       "      <td>1.0</td>\n",
       "    </tr>\n",
       "    <tr>\n",
       "      <th>4</th>\n",
       "      <td>0.003917</td>\n",
       "      <td>0.062585</td>\n",
       "      <td>TfidfVectorizer(lowercase=False, stop_words='e...</td>\n",
       "      <td>DecisionTreeRegressor(max_depth=50, min_sample...</td>\n",
       "      <td>1.0</td>\n",
       "    </tr>\n",
       "    <tr>\n",
       "      <th>5</th>\n",
       "      <td>0.003883</td>\n",
       "      <td>0.062314</td>\n",
       "      <td>TfidfVectorizer(lowercase=False)</td>\n",
       "      <td>DecisionTreeRegressor(max_depth=50, min_sample...</td>\n",
       "      <td>1.0</td>\n",
       "    </tr>\n",
       "    <tr>\n",
       "      <th>6</th>\n",
       "      <td>0.003824</td>\n",
       "      <td>0.061835</td>\n",
       "      <td>CountVectorizer(lowercase=False, stop_words='e...</td>\n",
       "      <td>DecisionTreeRegressor(max_depth=50, min_sample...</td>\n",
       "      <td>False</td>\n",
       "    </tr>\n",
       "  </tbody>\n",
       "</table>\n",
       "</div>"
      ],
      "text/plain": [
       "        MSE      RMSE                                          Vect Used  \\\n",
       "0  0.003994  0.063195                                  CountVectorizer()   \n",
       "1  0.003737  0.061131  CountVectorizer(lowercase=False, stop_words='e...   \n",
       "2  0.003774  0.061430                   CountVectorizer(lowercase=False)   \n",
       "3  0.004327  0.065781                                  TfidfVectorizer()   \n",
       "4  0.003917  0.062585  TfidfVectorizer(lowercase=False, stop_words='e...   \n",
       "5  0.003883  0.062314                   TfidfVectorizer(lowercase=False)   \n",
       "6  0.003824  0.061835  CountVectorizer(lowercase=False, stop_words='e...   \n",
       "\n",
       "                                          Model Used TextOnly  \n",
       "0  DecisionTreeRegressor(max_depth=50, min_sample...      1.0  \n",
       "1  DecisionTreeRegressor(max_depth=50, min_sample...      1.0  \n",
       "2  DecisionTreeRegressor(max_depth=50, min_sample...      1.0  \n",
       "3  DecisionTreeRegressor(max_depth=50, min_sample...      1.0  \n",
       "4  DecisionTreeRegressor(max_depth=50, min_sample...      1.0  \n",
       "5  DecisionTreeRegressor(max_depth=50, min_sample...      1.0  \n",
       "6  DecisionTreeRegressor(max_depth=50, min_sample...    False  "
      ]
     },
     "execution_count": 19,
     "metadata": {},
     "output_type": "execute_result"
    }
   ],
   "source": [
    "res_test"
   ]
  },
  {
   "cell_type": "markdown",
   "metadata": {
    "id": "mgsnxj8ZTqTm"
   },
   "source": [
    "### Decision Tree with Bayes Optimisation Hyperparameter Tuning"
   ]
  },
  {
   "cell_type": "markdown",
   "metadata": {
    "id": "_qZKusLWZOOu"
   },
   "source": [
    "#### Helper Functions"
   ]
  },
  {
   "cell_type": "code",
   "execution_count": 20,
   "metadata": {
    "executionInfo": {
     "elapsed": 22,
     "status": "ok",
     "timestamp": 1649325540921,
     "user": {
      "displayName": "Sean Lee",
      "userId": "16401441034184938846"
     },
     "user_tz": -480
    },
    "id": "EDdJAEYGRQn5"
   },
   "outputs": [],
   "source": [
    "if not os.path.exists('/Tuning'): os.mkdir('/Tuning')\n",
    "    \n",
    "def save_file(path, data):\n",
    "    \"\"\"\n",
    "\n",
    "    This function saves the model to a .pkl file.\n",
    "\n",
    "    \"\"\"\n",
    "\n",
    "    output = open(path, 'wb')\n",
    "    pickle.dump(data, output)\n",
    "    output.close()\n",
    "\n",
    "def load_file(path):\n",
    "    \"\"\"\n",
    "\n",
    "    This function loads the model from a .pkl file.\n",
    "    The main reason for doing so is that retraining is not required everytime the code is ran.\n",
    "\n",
    "    \"\"\"\n",
    "    pkl_file = open(path, 'rb')\n",
    "    data = pickle.load(pkl_file)\n",
    "    pkl_file.close()\n",
    "    return data\n",
    "\n",
    "def hyperopt(param_space, num_eval, vect, model):\n",
    "    \"\"\"\n",
    "    Main hyperparameter tuning function\n",
    "\n",
    "    Parameters:\n",
    "    ---------\n",
    "    (1) param_space: dictionary of parameter values to optimise\n",
    "    (2) num_eval: number of iterations to optimise over\n",
    "    (3) vect: vector used for text column\n",
    "    (4) model: regression model used to fit data\n",
    "\n",
    "    Returns:\n",
    "    -------\n",
    "    (1) trials: dictionary containing optimisation history (parameters, etc)\n",
    "    (2) best_param_values: dictionary containing the parameters of best model (lowest RMSE)\n",
    "    \n",
    "    \"\"\"\n",
    "\n",
    "    def objective_function(params):\n",
    "        \"\"\"\n",
    "        This function defines the objective function to minimise (in this case, RMSE)\n",
    "\n",
    "        Parameters:\n",
    "        ---------\n",
    "        (1) params: model parameters\n",
    "\n",
    "        Returns:\n",
    "        -------\n",
    "        (1) dictionary containing score (RMSE) and optimisation status\n",
    "        \n",
    "        \"\"\" \n",
    "        \n",
    "        regressor = model(**params)\n",
    "        score = resample_train_and_evaluate_model(X_train, y_train, vect, regressor, text_only=False, obj_function=True) # loss function is RMSE\n",
    "\n",
    "        return {'loss': score, 'status': STATUS_OK}\n",
    "    \n",
    "    trials = Trials()\n",
    "    best_param = fmin(objective_function, param_space, algo=tpe.suggest, max_evals=num_eval, \n",
    "                      trials=trials, rstate= np.random.RandomState(2022))\n",
    "    loss = [x['result']['loss'] for x in trials.trials] \n",
    "    best_param_values = best_param\n",
    "    print(loss)\n",
    "    return trials, best_param_values"
   ]
  },
  {
   "cell_type": "markdown",
   "metadata": {
    "id": "BDpx2stOZT6a"
   },
   "source": [
    "#### Hyperparameter Tuning"
   ]
  },
  {
   "cell_type": "code",
   "execution_count": 21,
   "metadata": {
    "executionInfo": {
     "elapsed": 22,
     "status": "ok",
     "timestamp": 1649325540921,
     "user": {
      "displayName": "Sean Lee",
      "userId": "16401441034184938846"
     },
     "user_tz": -480
    },
    "id": "I-gwjgOrP7d-"
   },
   "outputs": [],
   "source": [
    "num_eval = 100 # can increase more for more iterations\n",
    "\n",
    "### defining parameter space\n",
    "DT_param_hyperopt = {\n",
    "    'splitter': hp.choice('splitter', ['best','random']),\n",
    "    'max_depth': scope.int(hp.quniform('max_depth', 30, 150, 20)),\n",
    "    'min_samples_split' : scope.int(hp.quniform('min_samples_split', 10, 150, 20)),\n",
    "    'min_samples_leaf' : scope.int(hp.quniform('min_samples_leaf', 1, 10, 1)),\n",
    "    'min_weight_fraction_leaf' : hp.uniform('min_weight_fraction_leaf', 0.0, 0.5),\n",
    "    'random_state':2022\n",
    "}"
   ]
  },
  {
   "cell_type": "code",
   "execution_count": 22,
   "metadata": {
    "colab": {
     "base_uri": "https://localhost:8080/"
    },
    "executionInfo": {
     "elapsed": 3327065,
     "status": "ok",
     "timestamp": 1649328867965,
     "user": {
      "displayName": "Sean Lee",
      "userId": "16401441034184938846"
     },
     "user_tz": -480
    },
    "id": "l2xtK0SXRpBF",
    "outputId": "269f76d4-785b-496b-f09b-cd778fce7e7f"
   },
   "outputs": [],
   "source": [
    "load = True # toggle to set to False if want to re-optimise\n",
    "if load == False:\n",
    "    DT_hyperopt = hyperopt(DT_param_hyperopt, num_eval, vect, tree.DecisionTreeRegressor)\n",
    "    save_file('Tuning/DT_hyperopt.pkl', DT_hyperopt)\n",
    "else:\n",
    "    try:\n",
    "        DT_hyperopt = load_file('Tuning/DT_hyperopt.pkl')\n",
    "    except Exception as e:\n",
    "        print(e)"
   ]
  },
  {
   "cell_type": "markdown",
   "metadata": {
    "id": "SA7Q9nUwZZEw"
   },
   "source": [
    "#### Visualise Hyperparameter Tuning History"
   ]
  },
  {
   "cell_type": "code",
   "execution_count": 23,
   "metadata": {
    "executionInfo": {
     "elapsed": 19,
     "status": "ok",
     "timestamp": 1649328867966,
     "user": {
      "displayName": "Sean Lee",
      "userId": "16401441034184938846"
     },
     "user_tz": -480
    },
    "id": "Az2vHqzUSPdu"
   },
   "outputs": [],
   "source": [
    "trials = DT_hyperopt[0].trials\n",
    "\n",
    "record = []\n",
    "losses = []\n",
    "for trial in trials:\n",
    "    loss = trial[\"result\"][\"loss\"]\n",
    "    values = trial[\"misc\"]['vals']\n",
    "    losses.append(loss)\n",
    "    record.append(values)\n",
    "    \n",
    "DTTrialsData = pd.DataFrame(record)\n",
    "DTTrialsData = DTTrialsData.applymap(lambda x: x[0])\n",
    "\n",
    "DTTrialsData.insert(0, 'loss', losses)\n",
    "DTTrialsData.sort_values(by='loss', inplace=True)"
   ]
  },
  {
   "cell_type": "code",
   "execution_count": 24,
   "metadata": {
    "colab": {
     "base_uri": "https://localhost:8080/",
     "height": 206
    },
    "executionInfo": {
     "elapsed": 19,
     "status": "ok",
     "timestamp": 1649328867966,
     "user": {
      "displayName": "Sean Lee",
      "userId": "16401441034184938846"
     },
     "user_tz": -480
    },
    "id": "6hSw7dkQSQht",
    "outputId": "0240ff5a-fee4-42db-9d2f-4f7684cfbe8c"
   },
   "outputs": [
    {
     "data": {
      "text/html": [
       "<div>\n",
       "<style scoped>\n",
       "    .dataframe tbody tr th:only-of-type {\n",
       "        vertical-align: middle;\n",
       "    }\n",
       "\n",
       "    .dataframe tbody tr th {\n",
       "        vertical-align: top;\n",
       "    }\n",
       "\n",
       "    .dataframe thead th {\n",
       "        text-align: right;\n",
       "    }\n",
       "</style>\n",
       "<table border=\"1\" class=\"dataframe\">\n",
       "  <thead>\n",
       "    <tr style=\"text-align: right;\">\n",
       "      <th></th>\n",
       "      <th>loss</th>\n",
       "      <th>max_depth</th>\n",
       "      <th>min_samples_leaf</th>\n",
       "      <th>min_samples_split</th>\n",
       "      <th>min_weight_fraction_leaf</th>\n",
       "      <th>splitter</th>\n",
       "    </tr>\n",
       "  </thead>\n",
       "  <tbody>\n",
       "    <tr>\n",
       "      <th>37</th>\n",
       "      <td>0.060281</td>\n",
       "      <td>80.0</td>\n",
       "      <td>9.0</td>\n",
       "      <td>80.0</td>\n",
       "      <td>0.001520</td>\n",
       "      <td>0</td>\n",
       "    </tr>\n",
       "    <tr>\n",
       "      <th>49</th>\n",
       "      <td>0.060581</td>\n",
       "      <td>60.0</td>\n",
       "      <td>4.0</td>\n",
       "      <td>100.0</td>\n",
       "      <td>0.001088</td>\n",
       "      <td>0</td>\n",
       "    </tr>\n",
       "    <tr>\n",
       "      <th>20</th>\n",
       "      <td>0.060646</td>\n",
       "      <td>80.0</td>\n",
       "      <td>6.0</td>\n",
       "      <td>60.0</td>\n",
       "      <td>0.001068</td>\n",
       "      <td>0</td>\n",
       "    </tr>\n",
       "    <tr>\n",
       "      <th>75</th>\n",
       "      <td>0.060779</td>\n",
       "      <td>100.0</td>\n",
       "      <td>9.0</td>\n",
       "      <td>60.0</td>\n",
       "      <td>0.000398</td>\n",
       "      <td>0</td>\n",
       "    </tr>\n",
       "    <tr>\n",
       "      <th>86</th>\n",
       "      <td>0.060823</td>\n",
       "      <td>80.0</td>\n",
       "      <td>9.0</td>\n",
       "      <td>60.0</td>\n",
       "      <td>0.000247</td>\n",
       "      <td>0</td>\n",
       "    </tr>\n",
       "  </tbody>\n",
       "</table>\n",
       "</div>"
      ],
      "text/plain": [
       "        loss  max_depth  min_samples_leaf  min_samples_split  \\\n",
       "37  0.060281       80.0               9.0               80.0   \n",
       "49  0.060581       60.0               4.0              100.0   \n",
       "20  0.060646       80.0               6.0               60.0   \n",
       "75  0.060779      100.0               9.0               60.0   \n",
       "86  0.060823       80.0               9.0               60.0   \n",
       "\n",
       "    min_weight_fraction_leaf  splitter  \n",
       "37                  0.001520         0  \n",
       "49                  0.001088         0  \n",
       "20                  0.001068         0  \n",
       "75                  0.000398         0  \n",
       "86                  0.000247         0  "
      ]
     },
     "execution_count": 24,
     "metadata": {},
     "output_type": "execute_result"
    }
   ],
   "source": [
    "DTTrialsData.head() # ordered by loss function in ascending order (first row is best hyperparameter)"
   ]
  },
  {
   "cell_type": "markdown",
   "metadata": {
    "id": "ZcyFDovbZiBg"
   },
   "source": [
    "#### Fit and Test with Best Hyperparameters"
   ]
  },
  {
   "cell_type": "code",
   "execution_count": 25,
   "metadata": {
    "executionInfo": {
     "elapsed": 6,
     "status": "ok",
     "timestamp": 1649328867966,
     "user": {
      "displayName": "Sean Lee",
      "userId": "16401441034184938846"
     },
     "user_tz": -480
    },
    "id": "oOqkUhuBSSUe"
   },
   "outputs": [],
   "source": [
    "dt_chosen = DT_hyperopt[1]\n",
    "\n",
    "dt_model   =   tree.DecisionTreeRegressor(splitter=['best','random'][dt_chosen['splitter']], \n",
    "                                          max_depth=int(dt_chosen['max_depth']),\n",
    "                                          min_samples_split = int(dt_chosen['min_samples_split']),\n",
    "                                          min_samples_leaf = int(dt_chosen['min_samples_leaf']),\n",
    "                                          min_weight_fraction_leaf = dt_chosen['min_weight_fraction_leaf'],\n",
    "                                          random_state=2022)"
   ]
  },
  {
   "cell_type": "code",
   "execution_count": 26,
   "metadata": {
    "executionInfo": {
     "elapsed": 65087,
     "status": "ok",
     "timestamp": 1649328933047,
     "user": {
      "displayName": "Sean Lee",
      "userId": "16401441034184938846"
     },
     "user_tz": -480
    },
    "id": "_P617CoLScv0"
   },
   "outputs": [
    {
     "name": "stderr",
     "output_type": "stream",
     "text": [
      "100%|████████████████████████████████████████████████████████████████████████████████████| 5/5 [01:17<00:00, 15.44s/it]\n"
     ]
    }
   ],
   "source": [
    "res_test = res_test.append(resample_train_and_evaluate_model(X, y, vect, dt_model, text_only=False),ignore_index=True)"
   ]
  },
  {
   "cell_type": "code",
   "execution_count": 27,
   "metadata": {
    "colab": {
     "base_uri": "https://localhost:8080/",
     "height": 300
    },
    "executionInfo": {
     "elapsed": 17,
     "status": "ok",
     "timestamp": 1649328933047,
     "user": {
      "displayName": "Sean Lee",
      "userId": "16401441034184938846"
     },
     "user_tz": -480
    },
    "id": "u_HieO3CS94Z",
    "outputId": "70c1b041-c87b-40ef-b4ec-a4dd01b7d37e"
   },
   "outputs": [
    {
     "data": {
      "text/html": [
       "<div>\n",
       "<style scoped>\n",
       "    .dataframe tbody tr th:only-of-type {\n",
       "        vertical-align: middle;\n",
       "    }\n",
       "\n",
       "    .dataframe tbody tr th {\n",
       "        vertical-align: top;\n",
       "    }\n",
       "\n",
       "    .dataframe thead th {\n",
       "        text-align: right;\n",
       "    }\n",
       "</style>\n",
       "<table border=\"1\" class=\"dataframe\">\n",
       "  <thead>\n",
       "    <tr style=\"text-align: right;\">\n",
       "      <th></th>\n",
       "      <th>MSE</th>\n",
       "      <th>RMSE</th>\n",
       "      <th>Vect Used</th>\n",
       "      <th>Model Used</th>\n",
       "      <th>TextOnly</th>\n",
       "    </tr>\n",
       "  </thead>\n",
       "  <tbody>\n",
       "    <tr>\n",
       "      <th>7</th>\n",
       "      <td>0.003631</td>\n",
       "      <td>0.060261</td>\n",
       "      <td>CountVectorizer(lowercase=False, stop_words='e...</td>\n",
       "      <td>DecisionTreeRegressor(max_depth=80, min_sample...</td>\n",
       "      <td>False</td>\n",
       "    </tr>\n",
       "    <tr>\n",
       "      <th>1</th>\n",
       "      <td>0.003737</td>\n",
       "      <td>0.061131</td>\n",
       "      <td>CountVectorizer(lowercase=False, stop_words='e...</td>\n",
       "      <td>DecisionTreeRegressor(max_depth=50, min_sample...</td>\n",
       "      <td>1.0</td>\n",
       "    </tr>\n",
       "    <tr>\n",
       "      <th>2</th>\n",
       "      <td>0.003774</td>\n",
       "      <td>0.061430</td>\n",
       "      <td>CountVectorizer(lowercase=False)</td>\n",
       "      <td>DecisionTreeRegressor(max_depth=50, min_sample...</td>\n",
       "      <td>1.0</td>\n",
       "    </tr>\n",
       "    <tr>\n",
       "      <th>6</th>\n",
       "      <td>0.003824</td>\n",
       "      <td>0.061835</td>\n",
       "      <td>CountVectorizer(lowercase=False, stop_words='e...</td>\n",
       "      <td>DecisionTreeRegressor(max_depth=50, min_sample...</td>\n",
       "      <td>False</td>\n",
       "    </tr>\n",
       "    <tr>\n",
       "      <th>5</th>\n",
       "      <td>0.003883</td>\n",
       "      <td>0.062314</td>\n",
       "      <td>TfidfVectorizer(lowercase=False)</td>\n",
       "      <td>DecisionTreeRegressor(max_depth=50, min_sample...</td>\n",
       "      <td>1.0</td>\n",
       "    </tr>\n",
       "    <tr>\n",
       "      <th>4</th>\n",
       "      <td>0.003917</td>\n",
       "      <td>0.062585</td>\n",
       "      <td>TfidfVectorizer(lowercase=False, stop_words='e...</td>\n",
       "      <td>DecisionTreeRegressor(max_depth=50, min_sample...</td>\n",
       "      <td>1.0</td>\n",
       "    </tr>\n",
       "    <tr>\n",
       "      <th>0</th>\n",
       "      <td>0.003994</td>\n",
       "      <td>0.063195</td>\n",
       "      <td>CountVectorizer()</td>\n",
       "      <td>DecisionTreeRegressor(max_depth=50, min_sample...</td>\n",
       "      <td>1.0</td>\n",
       "    </tr>\n",
       "    <tr>\n",
       "      <th>3</th>\n",
       "      <td>0.004327</td>\n",
       "      <td>0.065781</td>\n",
       "      <td>TfidfVectorizer()</td>\n",
       "      <td>DecisionTreeRegressor(max_depth=50, min_sample...</td>\n",
       "      <td>1.0</td>\n",
       "    </tr>\n",
       "  </tbody>\n",
       "</table>\n",
       "</div>"
      ],
      "text/plain": [
       "        MSE      RMSE                                          Vect Used  \\\n",
       "7  0.003631  0.060261  CountVectorizer(lowercase=False, stop_words='e...   \n",
       "1  0.003737  0.061131  CountVectorizer(lowercase=False, stop_words='e...   \n",
       "2  0.003774  0.061430                   CountVectorizer(lowercase=False)   \n",
       "6  0.003824  0.061835  CountVectorizer(lowercase=False, stop_words='e...   \n",
       "5  0.003883  0.062314                   TfidfVectorizer(lowercase=False)   \n",
       "4  0.003917  0.062585  TfidfVectorizer(lowercase=False, stop_words='e...   \n",
       "0  0.003994  0.063195                                  CountVectorizer()   \n",
       "3  0.004327  0.065781                                  TfidfVectorizer()   \n",
       "\n",
       "                                          Model Used TextOnly  \n",
       "7  DecisionTreeRegressor(max_depth=80, min_sample...    False  \n",
       "1  DecisionTreeRegressor(max_depth=50, min_sample...      1.0  \n",
       "2  DecisionTreeRegressor(max_depth=50, min_sample...      1.0  \n",
       "6  DecisionTreeRegressor(max_depth=50, min_sample...    False  \n",
       "5  DecisionTreeRegressor(max_depth=50, min_sample...      1.0  \n",
       "4  DecisionTreeRegressor(max_depth=50, min_sample...      1.0  \n",
       "0  DecisionTreeRegressor(max_depth=50, min_sample...      1.0  \n",
       "3  DecisionTreeRegressor(max_depth=50, min_sample...      1.0  "
      ]
     },
     "execution_count": 27,
     "metadata": {},
     "output_type": "execute_result"
    }
   ],
   "source": [
    "sorted_res = res_test.sort_values(by = 'RMSE')\n",
    "sorted_res # lower RMSE after tuning"
   ]
  },
  {
   "cell_type": "markdown",
   "metadata": {
    "id": "6TuK97zqTuOk"
   },
   "source": [
    "## Testing Model on Out-of-Sample data"
   ]
  },
  {
   "cell_type": "code",
   "execution_count": 28,
   "metadata": {
    "executionInfo": {
     "elapsed": 11704,
     "status": "ok",
     "timestamp": 1649328944737,
     "user": {
      "displayName": "Sean Lee",
      "userId": "16401441034184938846"
     },
     "user_tz": -480
    },
    "id": "R8phTz5_7JFs"
   },
   "outputs": [],
   "source": [
    "def evaluate_model(x_train, y_train, x_test, y_test, vect, model, text_only=False, obj_function=False):\n",
    "    y_true, y_preds = [], []\n",
    "    x_train_df, x_test_df = feature_encoding(x_train, x_test, vect, text_only)\n",
    "    model.fit(x_train_df, y_train)\n",
    "    y_pred = model.predict(x_test_df)\n",
    "    y_preds.extend(y_pred)\n",
    "    y_true.extend(y_test)\n",
    "\n",
    "    return evaluate(y_true, y_preds, vect, model, text_only, obj_function)\n",
    "\n",
    "results_test = evaluate_model(X_train, y_train, X_test, y_test, vect, dt_model, text_only=False, obj_function=False)\n",
    "res_test=res_test.append(results_test,ignore_index=True)"
   ]
  },
  {
   "cell_type": "code",
   "execution_count": 29,
   "metadata": {
    "colab": {
     "base_uri": "https://localhost:8080/"
    },
    "executionInfo": {
     "elapsed": 17,
     "status": "ok",
     "timestamp": 1649328944737,
     "user": {
      "displayName": "Sean Lee",
      "userId": "16401441034184938846"
     },
     "user_tz": -480
    },
    "id": "xInog0j8EI_7",
    "outputId": "ac4e717c-4c82-4ca9-f28b-9cf1f3b6c7d7"
   },
   "outputs": [
    {
     "data": {
      "text/plain": [
       "MSE                                                    0.003748\n",
       "RMSE                                                   0.061221\n",
       "Vect Used     CountVectorizer(lowercase=False, stop_words='e...\n",
       "Model Used    DecisionTreeRegressor(max_depth=80, min_sample...\n",
       "TextOnly                                                  False\n",
       "Name: 8, dtype: object"
      ]
     },
     "execution_count": 29,
     "metadata": {},
     "output_type": "execute_result"
    }
   ],
   "source": [
    "res_test.iloc[len(res_test)-1] ## show latest result"
   ]
  },
  {
   "cell_type": "markdown",
   "metadata": {
    "id": "w8dy7sEsWOJv"
   },
   "source": [
    "### Obtain Feature Importance"
   ]
  },
  {
   "cell_type": "code",
   "execution_count": 30,
   "metadata": {
    "executionInfo": {
     "elapsed": 16,
     "status": "ok",
     "timestamp": 1649328944738,
     "user": {
      "displayName": "Sean Lee",
      "userId": "16401441034184938846"
     },
     "user_tz": -480
    },
    "id": "NVxDKctb9fTU"
   },
   "outputs": [],
   "source": [
    "test_model = res_test.iloc[len(res_test)-1]['Model Used']"
   ]
  },
  {
   "cell_type": "code",
   "execution_count": 31,
   "metadata": {
    "executionInfo": {
     "elapsed": 7871,
     "status": "ok",
     "timestamp": 1649328952594,
     "user": {
      "displayName": "Sean Lee",
      "userId": "16401441034184938846"
     },
     "user_tz": -480
    },
    "id": "ZZAP70jA_x2l"
   },
   "outputs": [],
   "source": [
    "feature_impt = test_model.feature_importances_\n",
    "x_train_df, x_test_df = feature_encoding(X_train, X_test, vect, False)\n",
    "feature_names = x_train_df.columns\n",
    "df = np.vstack((feature_impt, feature_names))\n",
    "\n",
    "sorted_df = pd.DataFrame(df.T, columns=['Importance','Feature'])\n",
    "sorted_df.Importance = sorted_df.Importance.astype(float)\n",
    "sorted_df = sorted_df.sort_values(by = 'Importance', ascending=False)"
   ]
  },
  {
   "cell_type": "code",
   "execution_count": 32,
   "metadata": {
    "colab": {
     "base_uri": "https://localhost:8080/",
     "height": 1000
    },
    "executionInfo": {
     "elapsed": 15,
     "status": "ok",
     "timestamp": 1649328952595,
     "user": {
      "displayName": "Sean Lee",
      "userId": "16401441034184938846"
     },
     "user_tz": -480
    },
    "id": "D_GbFcRuDraA",
    "outputId": "ecc3d786-f94d-4cda-ec91-0c35adbc9407"
   },
   "outputs": [
    {
     "data": {
      "text/html": [
       "<div>\n",
       "<style scoped>\n",
       "    .dataframe tbody tr th:only-of-type {\n",
       "        vertical-align: middle;\n",
       "    }\n",
       "\n",
       "    .dataframe tbody tr th {\n",
       "        vertical-align: top;\n",
       "    }\n",
       "\n",
       "    .dataframe thead th {\n",
       "        text-align: right;\n",
       "    }\n",
       "</style>\n",
       "<table border=\"1\" class=\"dataframe\">\n",
       "  <thead>\n",
       "    <tr style=\"text-align: right;\">\n",
       "      <th></th>\n",
       "      <th>Importance</th>\n",
       "      <th>Feature</th>\n",
       "    </tr>\n",
       "  </thead>\n",
       "  <tbody>\n",
       "    <tr>\n",
       "      <th>595</th>\n",
       "      <td>0.148605</td>\n",
       "      <td>BITCOIN</td>\n",
       "    </tr>\n",
       "    <tr>\n",
       "      <th>8877</th>\n",
       "      <td>0.097900</td>\n",
       "      <td>NumWords</td>\n",
       "    </tr>\n",
       "    <tr>\n",
       "      <th>8875</th>\n",
       "      <td>0.067446</td>\n",
       "      <td>ExclamationCount</td>\n",
       "    </tr>\n",
       "    <tr>\n",
       "      <th>7979</th>\n",
       "      <td>0.067272</td>\n",
       "      <td>XRP</td>\n",
       "    </tr>\n",
       "    <tr>\n",
       "      <th>7249</th>\n",
       "      <td>0.054509</td>\n",
       "      <td>Technical</td>\n",
       "    </tr>\n",
       "    <tr>\n",
       "      <th>858</th>\n",
       "      <td>0.034975</td>\n",
       "      <td>Bitcoin</td>\n",
       "    </tr>\n",
       "    <tr>\n",
       "      <th>133</th>\n",
       "      <td>0.034112</td>\n",
       "      <td>ANALYSIS</td>\n",
       "    </tr>\n",
       "    <tr>\n",
       "      <th>42</th>\n",
       "      <td>0.029724</td>\n",
       "      <td>ADA</td>\n",
       "    </tr>\n",
       "    <tr>\n",
       "      <th>1451</th>\n",
       "      <td>0.025475</td>\n",
       "      <td>Chart</td>\n",
       "    </tr>\n",
       "    <tr>\n",
       "      <th>8116</th>\n",
       "      <td>0.019842</td>\n",
       "      <td>bitcoin</td>\n",
       "    </tr>\n",
       "    <tr>\n",
       "      <th>1310</th>\n",
       "      <td>0.018785</td>\n",
       "      <td>CRYPTO</td>\n",
       "    </tr>\n",
       "    <tr>\n",
       "      <th>3636</th>\n",
       "      <td>0.017415</td>\n",
       "      <td>IS</td>\n",
       "    </tr>\n",
       "    <tr>\n",
       "      <th>6244</th>\n",
       "      <td>0.016604</td>\n",
       "      <td>SHIBA</td>\n",
       "    </tr>\n",
       "    <tr>\n",
       "      <th>6352</th>\n",
       "      <td>0.015604</td>\n",
       "      <td>SOL</td>\n",
       "    </tr>\n",
       "    <tr>\n",
       "      <th>8865</th>\n",
       "      <td>0.014925</td>\n",
       "      <td>-33.891 to 4298.1 seconds</td>\n",
       "    </tr>\n",
       "    <tr>\n",
       "      <th>8876</th>\n",
       "      <td>0.014325</td>\n",
       "      <td>QuestionCount</td>\n",
       "    </tr>\n",
       "    <tr>\n",
       "      <th>111</th>\n",
       "      <td>0.013898</td>\n",
       "      <td>ALTCOINS</td>\n",
       "    </tr>\n",
       "    <tr>\n",
       "      <th>8844</th>\n",
       "      <td>0.013171</td>\n",
       "      <td>emoji stop sign</td>\n",
       "    </tr>\n",
       "    <tr>\n",
       "      <th>7102</th>\n",
       "      <td>0.013083</td>\n",
       "      <td>TODAY</td>\n",
       "    </tr>\n",
       "    <tr>\n",
       "      <th>8870</th>\n",
       "      <td>0.012461</td>\n",
       "      <td>8587.2 to 12876.3 seconds</td>\n",
       "    </tr>\n",
       "    <tr>\n",
       "      <th>1377</th>\n",
       "      <td>0.011579</td>\n",
       "      <td>Cardano</td>\n",
       "    </tr>\n",
       "    <tr>\n",
       "      <th>1696</th>\n",
       "      <td>0.011423</td>\n",
       "      <td>Crypto</td>\n",
       "    </tr>\n",
       "    <tr>\n",
       "      <th>1886</th>\n",
       "      <td>0.011097</td>\n",
       "      <td>DOGECOIN</td>\n",
       "    </tr>\n",
       "    <tr>\n",
       "      <th>2296</th>\n",
       "      <td>0.010642</td>\n",
       "      <td>ETHEREUM</td>\n",
       "    </tr>\n",
       "    <tr>\n",
       "      <th>4749</th>\n",
       "      <td>0.009239</td>\n",
       "      <td>NEW</td>\n",
       "    </tr>\n",
       "    <tr>\n",
       "      <th>6649</th>\n",
       "      <td>0.008644</td>\n",
       "      <td>Sentiment</td>\n",
       "    </tr>\n",
       "    <tr>\n",
       "      <th>8857</th>\n",
       "      <td>0.007488</td>\n",
       "      <td>emoji warning</td>\n",
       "    </tr>\n",
       "    <tr>\n",
       "      <th>3210</th>\n",
       "      <td>0.007300</td>\n",
       "      <td>HBAR</td>\n",
       "    </tr>\n",
       "    <tr>\n",
       "      <th>7075</th>\n",
       "      <td>0.007215</td>\n",
       "      <td>THIS</td>\n",
       "    </tr>\n",
       "    <tr>\n",
       "      <th>8817</th>\n",
       "      <td>0.006845</td>\n",
       "      <td>emoji police car light</td>\n",
       "    </tr>\n",
       "    <tr>\n",
       "      <th>4518</th>\n",
       "      <td>0.006565</td>\n",
       "      <td>Market</td>\n",
       "    </tr>\n",
       "    <tr>\n",
       "      <th>4757</th>\n",
       "      <td>0.006289</td>\n",
       "      <td>NFT</td>\n",
       "    </tr>\n",
       "    <tr>\n",
       "      <th>5523</th>\n",
       "      <td>0.006177</td>\n",
       "      <td>Price</td>\n",
       "    </tr>\n",
       "    <tr>\n",
       "      <th>1819</th>\n",
       "      <td>0.006116</td>\n",
       "      <td>DEX</td>\n",
       "    </tr>\n",
       "    <tr>\n",
       "      <th>7285</th>\n",
       "      <td>0.005808</td>\n",
       "      <td>The</td>\n",
       "    </tr>\n",
       "    <tr>\n",
       "      <th>8872</th>\n",
       "      <td>0.005672</td>\n",
       "      <td>HasCaps</td>\n",
       "    </tr>\n",
       "    <tr>\n",
       "      <th>4038</th>\n",
       "      <td>0.005565</td>\n",
       "      <td>LIVE</td>\n",
       "    </tr>\n",
       "    <tr>\n",
       "      <th>702</th>\n",
       "      <td>0.005167</td>\n",
       "      <td>BTC</td>\n",
       "    </tr>\n",
       "    <tr>\n",
       "      <th>1074</th>\n",
       "      <td>0.004872</td>\n",
       "      <td>CEO</td>\n",
       "    </tr>\n",
       "    <tr>\n",
       "      <th>4300</th>\n",
       "      <td>0.004778</td>\n",
       "      <td>MARKET</td>\n",
       "    </tr>\n",
       "    <tr>\n",
       "      <th>6123</th>\n",
       "      <td>0.004685</td>\n",
       "      <td>SAITAMA</td>\n",
       "    </tr>\n",
       "    <tr>\n",
       "      <th>1173</th>\n",
       "      <td>0.004584</td>\n",
       "      <td>COIN</td>\n",
       "    </tr>\n",
       "    <tr>\n",
       "      <th>4839</th>\n",
       "      <td>0.004437</td>\n",
       "      <td>News</td>\n",
       "    </tr>\n",
       "    <tr>\n",
       "      <th>5225</th>\n",
       "      <td>0.004125</td>\n",
       "      <td>PREDICTION</td>\n",
       "    </tr>\n",
       "    <tr>\n",
       "      <th>7304</th>\n",
       "      <td>0.003958</td>\n",
       "      <td>This</td>\n",
       "    </tr>\n",
       "    <tr>\n",
       "      <th>7338</th>\n",
       "      <td>0.003779</td>\n",
       "      <td>To</td>\n",
       "    </tr>\n",
       "    <tr>\n",
       "      <th>6117</th>\n",
       "      <td>0.003668</td>\n",
       "      <td>SAFEMOON</td>\n",
       "    </tr>\n",
       "    <tr>\n",
       "      <th>3767</th>\n",
       "      <td>0.003552</td>\n",
       "      <td>Is</td>\n",
       "    </tr>\n",
       "    <tr>\n",
       "      <th>1543</th>\n",
       "      <td>0.003468</td>\n",
       "      <td>Coming</td>\n",
       "    </tr>\n",
       "    <tr>\n",
       "      <th>7949</th>\n",
       "      <td>0.003431</td>\n",
       "      <td>World</td>\n",
       "    </tr>\n",
       "  </tbody>\n",
       "</table>\n",
       "</div>"
      ],
      "text/plain": [
       "      Importance                    Feature\n",
       "595     0.148605                    BITCOIN\n",
       "8877    0.097900                   NumWords\n",
       "8875    0.067446           ExclamationCount\n",
       "7979    0.067272                        XRP\n",
       "7249    0.054509                  Technical\n",
       "858     0.034975                    Bitcoin\n",
       "133     0.034112                   ANALYSIS\n",
       "42      0.029724                        ADA\n",
       "1451    0.025475                      Chart\n",
       "8116    0.019842                    bitcoin\n",
       "1310    0.018785                     CRYPTO\n",
       "3636    0.017415                         IS\n",
       "6244    0.016604                      SHIBA\n",
       "6352    0.015604                        SOL\n",
       "8865    0.014925  -33.891 to 4298.1 seconds\n",
       "8876    0.014325              QuestionCount\n",
       "111     0.013898                   ALTCOINS\n",
       "8844    0.013171            emoji stop sign\n",
       "7102    0.013083                      TODAY\n",
       "8870    0.012461  8587.2 to 12876.3 seconds\n",
       "1377    0.011579                    Cardano\n",
       "1696    0.011423                     Crypto\n",
       "1886    0.011097                   DOGECOIN\n",
       "2296    0.010642                   ETHEREUM\n",
       "4749    0.009239                        NEW\n",
       "6649    0.008644                  Sentiment\n",
       "8857    0.007488              emoji warning\n",
       "3210    0.007300                       HBAR\n",
       "7075    0.007215                       THIS\n",
       "8817    0.006845     emoji police car light\n",
       "4518    0.006565                     Market\n",
       "4757    0.006289                        NFT\n",
       "5523    0.006177                      Price\n",
       "1819    0.006116                        DEX\n",
       "7285    0.005808                        The\n",
       "8872    0.005672                    HasCaps\n",
       "4038    0.005565                       LIVE\n",
       "702     0.005167                        BTC\n",
       "1074    0.004872                        CEO\n",
       "4300    0.004778                     MARKET\n",
       "6123    0.004685                    SAITAMA\n",
       "1173    0.004584                       COIN\n",
       "4839    0.004437                       News\n",
       "5225    0.004125                 PREDICTION\n",
       "7304    0.003958                       This\n",
       "7338    0.003779                         To\n",
       "6117    0.003668                   SAFEMOON\n",
       "3767    0.003552                         Is\n",
       "1543    0.003468                     Coming\n",
       "7949    0.003431                      World"
      ]
     },
     "execution_count": 32,
     "metadata": {},
     "output_type": "execute_result"
    }
   ],
   "source": [
    "sorted_df.head(50)"
   ]
  },
  {
   "cell_type": "code",
   "execution_count": 53,
   "metadata": {
    "executionInfo": {
     "elapsed": 13,
     "status": "ok",
     "timestamp": 1649328952595,
     "user": {
      "displayName": "Sean Lee",
      "userId": "16401441034184938846"
     },
     "user_tz": -480
    },
    "id": "kgpKljZ3B1hN"
   },
   "outputs": [],
   "source": [
    "# sorted_df.to_csv('results/Feature_Importance.csv', index=False)"
   ]
  },
  {
   "cell_type": "code",
   "execution_count": null,
   "metadata": {},
   "outputs": [],
   "source": []
  },
  {
   "cell_type": "code",
   "execution_count": null,
   "metadata": {},
   "outputs": [],
   "source": []
  },
  {
   "cell_type": "markdown",
   "metadata": {
    "tags": []
   },
   "source": [
    "## Calculating the \"Importance\" of each Feature"
   ]
  },
  {
   "cell_type": "code",
   "execution_count": 54,
   "metadata": {},
   "outputs": [],
   "source": [
    "x_train_df, x_test_df = feature_encoding(X_train, X_test, vect, False)\n",
    "\n",
    "# Split the data into 3 equal bins where bin 1 has the smallest target variable and bin 3 has the largest\n",
    "cuts = 3\n",
    "x_train_df['Target_Bins'] = pd.qcut(y_train, q = cuts, labels=range(1,cuts+1))"
   ]
  },
  {
   "cell_type": "code",
   "execution_count": 55,
   "metadata": {},
   "outputs": [
    {
     "data": {
      "text/plain": [
       "1    3647\n",
       "3    3647\n",
       "2    3646\n",
       "Name: Target_Bins, dtype: int64"
      ]
     },
     "execution_count": 55,
     "metadata": {},
     "output_type": "execute_result"
    }
   ],
   "source": [
    "x_train_df['Target_Bins'].value_counts()"
   ]
  },
  {
   "cell_type": "code",
   "execution_count": 56,
   "metadata": {},
   "outputs": [],
   "source": [
    "# Before we can use this to calculate the \"importance\" of each token, we need to avoid dividing by zero and account for the class imbalance.\n",
    "\n",
    "# number of times each token appears across the bottom bin\n",
    "top_results = x_train_df[x_train_df['Target_Bins'] == cuts  ]\n",
    "combined_results_df = pd.DataFrame(top_results.apply(lambda x : (sum(x)+1)/len(x)), columns= ['Top Mean'])\n",
    "\n",
    "# number of times each token appears across the top bin\n",
    "bottom_results = x_train_df[x_train_df['Target_Bins'] == 1 ]\n",
    "combined_results_df['Bottom Mean'] = bottom_results.apply(lambda x : (sum(x)+1)/len(x))"
   ]
  },
  {
   "cell_type": "code",
   "execution_count": 57,
   "metadata": {},
   "outputs": [],
   "source": [
    "# calculate the ratio of top bin to bottom bin for each token\n",
    "\n",
    "combined_results_df['tokens to include'] = combined_results_df['Top Mean']/(combined_results_df['Bottom Mean'])\n",
    "combined_results_df['tokens to avoid'] = combined_results_df['Bottom Mean']/(combined_results_df['Top Mean'])"
   ]
  },
  {
   "cell_type": "code",
   "execution_count": 58,
   "metadata": {},
   "outputs": [
    {
     "data": {
      "text/plain": [
       "8587.2 to 12876.3 seconds    55.000000\n",
       "HEDERA                       46.500000\n",
       "HBAR                         32.000000\n",
       "emoji stop sign              30.000000\n",
       "ROBINHOOD                    20.000000\n",
       "                               ...    \n",
       "NIOB                          0.062500\n",
       "LOSSES                        0.062500\n",
       "Corrective                    0.058824\n",
       "Coin                          0.057143\n",
       "CLIPS                         0.052632\n",
       "Name: tokens to include, Length: 8879, dtype: float64"
      ]
     },
     "execution_count": 58,
     "metadata": {},
     "output_type": "execute_result"
    }
   ],
   "source": [
    "combined_results_df['tokens to include'].sort_values(ascending= False)"
   ]
  },
  {
   "cell_type": "code",
   "execution_count": 59,
   "metadata": {},
   "outputs": [
    {
     "data": {
      "text/plain": [
       "CLIPS                        19.000000\n",
       "Coin                         17.500000\n",
       "Corrective                   17.000000\n",
       "LOSSES                       16.000000\n",
       "NIOB                         16.000000\n",
       "                               ...    \n",
       "ROBINHOOD                     0.050000\n",
       "emoji stop sign               0.033333\n",
       "HBAR                          0.031250\n",
       "HEDERA                        0.021505\n",
       "8587.2 to 12876.3 seconds     0.018182\n",
       "Name: tokens to avoid, Length: 8879, dtype: float64"
      ]
     },
     "execution_count": 59,
     "metadata": {},
     "output_type": "execute_result"
    }
   ],
   "source": [
    "combined_results_df['tokens to avoid'].sort_values(ascending= False)"
   ]
  },
  {
   "cell_type": "code",
   "execution_count": 60,
   "metadata": {},
   "outputs": [],
   "source": [
    "combined_results = combined_results_df.merge(sorted_df, left_index=True, right_on='Feature').set_index('Feature')"
   ]
  },
  {
   "cell_type": "code",
   "execution_count": 61,
   "metadata": {},
   "outputs": [
    {
     "data": {
      "text/plain": [
       "3.0374220374220373"
      ]
     },
     "execution_count": 61,
     "metadata": {},
     "output_type": "execute_result"
    }
   ],
   "source": [
    "# look up the importance_ratio for a given token\n",
    "combined_results_df.loc['BITCOIN', 'tokens to include']"
   ]
  },
  {
   "cell_type": "code",
   "execution_count": 62,
   "metadata": {},
   "outputs": [
    {
     "data": {
      "text/plain": [
       "Top Mean             0.400603\n",
       "Bottom Mean          0.131889\n",
       "tokens to include    3.037422\n",
       "tokens to avoid      0.329227\n",
       "Importance           0.148605\n",
       "Name: BITCOIN, dtype: float64"
      ]
     },
     "execution_count": 62,
     "metadata": {},
     "output_type": "execute_result"
    }
   ],
   "source": [
    "# look up the importance_ratio for a given token\n",
    "combined_results.loc['BITCOIN', ]"
   ]
  },
  {
   "cell_type": "markdown",
   "metadata": {},
   "source": [
    "BITCOIN appears in the top bin 3 times more than the bottom bin"
   ]
  },
  {
   "cell_type": "code",
   "execution_count": 63,
   "metadata": {},
   "outputs": [],
   "source": [
    "combined_results.to_csv('results/Feature Importance & Ratio.csv', index=True)"
   ]
  },
  {
   "cell_type": "code",
   "execution_count": null,
   "metadata": {},
   "outputs": [],
   "source": []
  }
 ],
 "metadata": {
  "accelerator": "GPU",
  "colab": {
   "authorship_tag": "ABX9TyPd5191o+LPAcZp+/jyx1H+",
   "collapsed_sections": [
    "z4dtQ5f5fyYt",
    "QhiuhtOugFwk",
    "TkT6T99BPEzK",
    "a-zrehCmRNkO",
    "_qZKusLWZOOu"
   ],
   "machine_shape": "hm",
   "name": "(Sean) FINAL Model Building.ipynb",
   "provenance": [],
   "toc_visible": true
  },
  "kernelspec": {
   "display_name": "Python 3 (ipykernel)",
   "language": "python",
   "name": "python3"
  },
  "language_info": {
   "codemirror_mode": {
    "name": "ipython",
    "version": 3
   },
   "file_extension": ".py",
   "mimetype": "text/x-python",
   "name": "python",
   "nbconvert_exporter": "python",
   "pygments_lexer": "ipython3",
   "version": "3.9.7"
  }
 },
 "nbformat": 4,
 "nbformat_minor": 4
}
